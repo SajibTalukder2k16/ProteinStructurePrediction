{
 "cells": [
  {
   "cell_type": "code",
   "execution_count": 1,
   "metadata": {
    "id": "oTe2o8A7EqtS"
   },
   "outputs": [],
   "source": [
    "import numpy as np\n",
    "import pandas as pd\n",
    "import matplotlib.pyplot as plt\n",
    "%matplotlib inline\n",
    "import csv\n",
    "from sklearn.model_selection import train_test_split\n",
    "from sklearn.svm import SVC\n",
    "from sklearn.metrics import classification_report"
   ]
  },
  {
   "cell_type": "code",
   "execution_count": 2,
   "metadata": {
    "colab": {
     "base_uri": "https://localhost:8080/"
    },
    "id": "wGM37O2XFuom",
    "outputId": "ec39824e-098a-443b-ddb5-b6adddfc5fed"
   },
   "outputs": [
    {
     "name": "stdout",
     "output_type": "stream",
     "text": [
      "Processed 10001 lines.\n"
     ]
    }
   ],
   "source": [
    "raw_primary = []\n",
    "raw_secondary = []\n",
    "#lines=393732;\n",
    "lines=10000;\n",
    "#df=pd.read_csv('PDB_CLEAN_DATA.csv')\n",
    "#display(df)\n",
    "with open('D:\\Study\\Thesis\\Q8\\PDB_CLEAN_DATA.csv') as csv_file:\n",
    "\tcsv_reader = csv.reader(csv_file, delimiter=',')\n",
    "\tline_count = 0\n",
    "\tfor row in csv_reader:\n",
    "\t\tadd = True\n",
    "\t\tif line_count == 0:\n",
    "\t\t\tline_count += 1\n",
    "\t\telif line_count > lines:\n",
    "\t\t\tbreak;\n",
    "\t\telse:\n",
    "\t\t\tfor j in range(len(row[2])):\n",
    "\t\t\t\tif row[2][j] == '*':\n",
    "\t\t\t\t\t#print(line_count)\n",
    "\t\t\t\t\tadd = False\n",
    "\t\t\t\t\tbreak;\n",
    "\t\t\tif add == True:\n",
    "\t\t\t\tif(len(row)>=3):\n",
    "\t\t\t\t\traw_primary.append( row[2] )\n",
    "\t\t\t\t\traw_secondary.append( row[3] )\n",
    "\n",
    "\t\t\tline_count += 1\n",
    "\tprint(f'Processed {line_count} lines.')"
   ]
  },
  {
   "cell_type": "code",
   "execution_count": 3,
   "metadata": {
    "colab": {
     "base_uri": "https://localhost:8080/"
    },
    "id": "ogLu-xvdHI5u",
    "outputId": "d620fb8a-a67f-4af4-a46b-313fefc8ec72"
   },
   "outputs": [
    {
     "name": "stdout",
     "output_type": "stream",
     "text": [
      "0 EDL\n",
      "1 KCK\n",
      "2 KAK\n",
      "3 KFK\n",
      "4 KAK\n",
      "5 KMK\n",
      "6 KHK\n",
      "7 KIK\n",
      "8 KAK\n",
      "9 KGK\n",
      "10 KGK\n",
      "11 KFK\n",
      "12 KPK\n",
      "13 KAK\n",
      "14 KDK\n",
      "15 KSK\n",
      "16 KTK\n",
      "17 KYK\n",
      "18 KAK\n",
      "19 KNK\n"
     ]
    }
   ],
   "source": [
    "for i, val in enumerate(raw_primary[0:20]):\n",
    "  print(str(i) + \" \" + val)\n"
   ]
  },
  {
   "cell_type": "code",
   "execution_count": 4,
   "metadata": {
    "id": "TqIoH9xwfkNo"
   },
   "outputs": [],
   "source": [
    "for i in range(len(raw_secondary)):\n",
    "\tlen1 = len(raw_secondary[i])\n",
    "\tlen2 = len(raw_primary[i])\n",
    "\tif(len1 != len2):\n",
    "\t  print(i,\" \", raw_secondary[i],\" \",raw_primary[i])"
   ]
  },
  {
   "cell_type": "code",
   "execution_count": 5,
   "metadata": {
    "id": "obu9EB04fq_m"
   },
   "outputs": [],
   "source": [
    "def split(sequence):\n",
    "  return [char for char in sequence]\n"
   ]
  },
  {
   "cell_type": "code",
   "execution_count": 41,
   "metadata": {
    "id": "UhJrzbtFfxHf"
   },
   "outputs": [],
   "source": [
    "split_primary = []\n",
    "split_secondary = []\n",
    "for i in range(len(raw_primary)):\n",
    "  split_primary.append(split(raw_primary[i]))\n",
    "  split_secondary.append(split(raw_secondary[i]))"
   ]
  },
  {
   "cell_type": "code",
   "execution_count": 42,
   "metadata": {
    "id": "Oeb17lSwgZeP"
   },
   "outputs": [],
   "source": [
    "def orthogonal_primary(arg):\n",
    "  switch = {\n",
    "  'A' : np.array([1,0,0,0,0,0,0,0,0,0,0,0,0,0,0,0,0,0,0,0]),\n",
    "  'C' : np.array([0,1,0,0,0,0,0,0,0,0,0,0,0,0,0,0,0,0,0,0]),\n",
    "  'E' : np.array([0,0,1,0,0,0,0,0,0,0,0,0,0,0,0,0,0,0,0,0]),\n",
    "  'D' : np.array([0,0,0,1,0,0,0,0,0,0,0,0,0,0,0,0,0,0,0,0]),\n",
    "  'G' : np.array([0,0,0,0,1,0,0,0,0,0,0,0,0,0,0,0,0,0,0,0]),\n",
    "  'F' : np.array([0,0,0,0,0,1,0,0,0,0,0,0,0,0,0,0,0,0,0,0]),\n",
    "  'I' : np.array([0,0,0,0,0,0,1,0,0,0,0,0,0,0,0,0,0,0,0,0]),\n",
    "  'H' : np.array([0,0,0,0,0,0,0,1,0,0,0,0,0,0,0,0,0,0,0,0]),\n",
    "  'K' : np.array([0,0,0,0,0,0,0,0,1,0,0,0,0,0,0,0,0,0,0,0]),\n",
    "  'M' : np.array([0,0,0,0,0,0,0,0,0,1,0,0,0,0,0,0,0,0,0,0]),\n",
    "  'L' : np.array([0,0,0,0,0,0,0,0,0,0,1,0,0,0,0,0,0,0,0,0]),\n",
    "  'N' : np.array([0,0,0,0,0,0,0,0,0,0,0,1,0,0,0,0,0,0,0,0]),\n",
    "  'Q' : np.array([0,0,0,0,0,0,0,0,0,0,0,0,1,0,0,0,0,0,0,0]),\n",
    "  'P' : np.array([0,0,0,0,0,0,0,0,0,0,0,0,0,1,0,0,0,0,0,0]),\n",
    "  'S' : np.array([0,0,0,0,0,0,0,0,0,0,0,0,0,0,1,0,0,0,0,0]),\n",
    "  'R' : np.array([0,0,0,0,0,0,0,0,0,0,0,0,0,0,0,1,0,0,0,0]),\n",
    "  'T' : np.array([0,0,0,0,0,0,0,0,0,0,0,0,0,0,0,0,1,0,0,0]),\n",
    "  'W' : np.array([0,0,0,0,0,0,0,0,0,0,0,0,0,0,0,0,0,1,0,0]),\n",
    "  'V' : np.array([0,0,0,0,0,0,0,0,0,0,0,0,0,0,0,0,0,0,1,0]),\n",
    "  'Y' : np.array([0,0,0,0,0,0,0,0,0,0,0,0,0,0,0,0,0,0,0,1])\n",
    "  }\n",
    "  return switch.get(arg)\n"
   ]
  },
  {
   "cell_type": "code",
   "execution_count": 43,
   "metadata": {
    "id": "cj1wqSVkgpPH"
   },
   "outputs": [],
   "source": [
    "def orthogonal_secondary(arg):\n",
    "  switch = {\n",
    "  'H' : 0,\n",
    "  'C' : 1,\n",
    "  'E' : 2,\n",
    "  'B' : 3,\n",
    "  'G' : 4,\n",
    "  'I' : 5,\n",
    "  'T' : 6,\n",
    "  'S' : 7\n",
    "  }\n",
    "  return switch.get(arg)"
   ]
  },
  {
   "cell_type": "code",
   "execution_count": 44,
   "metadata": {
    "id": "wBrhIum4gws2"
   },
   "outputs": [],
   "source": [
    "for i in range(len(split_primary)):\n",
    "  seq = split_primary[i]\n",
    "  for j in range(len(seq)):\n",
    "    seq[j] = orthogonal_primary(seq[j])"
   ]
  },
  {
   "cell_type": "code",
   "execution_count": 37,
   "metadata": {},
   "outputs": [
    {
     "name": "stdout",
     "output_type": "stream",
     "text": [
      "[0 0 1 0 0 0 0 0 0 0 0 0 0 0 0 0 0 0 0 0]\n"
     ]
    }
   ],
   "source": [
    "print(seq[0]);"
   ]
  },
  {
   "cell_type": "code",
   "execution_count": 10,
   "metadata": {
    "id": "5d43BYoFhBVf"
   },
   "outputs": [],
   "source": [
    "for i in range(len(split_secondary)):\n",
    "  seq2 = split_secondary[i]\n",
    "  for j in range(len(seq2)):\n",
    "    seq2[j] = orthogonal_secondary(seq2[j])\n"
   ]
  },
  {
   "cell_type": "code",
   "execution_count": 11,
   "metadata": {
    "id": "tIm_AyT-hdnG"
   },
   "outputs": [],
   "source": [
    "def target(lis):\n",
    "  Y = []\n",
    "  print(len(lis))\n",
    "  for i in range(len(lis)):\n",
    "    for j in range(len(lis[i])):\n",
    "      Y.append(lis[i][j])\n",
    "  return Y\n"
   ]
  },
  {
   "cell_type": "code",
   "execution_count": 12,
   "metadata": {
    "colab": {
     "base_uri": "https://localhost:8080/"
    },
    "id": "92ya315IhobY",
    "outputId": "cb5adfaa-75f2-4be5-e9a2-c5b921bc1166"
   },
   "outputs": [
    {
     "name": "stdout",
     "output_type": "stream",
     "text": [
      "7366\n"
     ]
    }
   ],
   "source": [
    "y_label = target(split_secondary)"
   ]
  },
  {
   "cell_type": "code",
   "execution_count": 13,
   "metadata": {
    "colab": {
     "base_uri": "https://localhost:8080/"
    },
    "id": "OQF_mpYdhsvv",
    "outputId": "d7c8c3fd-bb1c-4a96-c9f5-860508a284c6"
   },
   "outputs": [],
   "source": [
    "y_label = np.array(y_label)"
   ]
  },
  {
   "cell_type": "code",
   "execution_count": 14,
   "metadata": {
    "id": "z3b4JZV1iBdG"
   },
   "outputs": [],
   "source": [
    "def window_padding_data(size, sequence):\n",
    "\tnum = int(size/2)\n",
    "\tzeros = np.array([0, 0, 0, 0, 0, 0, 0, 0, 0, 0, 0, 0, 0, 0, 0, 0, 0, 0, 0, 0])\n",
    "\n",
    "\tfor i in range(len(sequence)):\n",
    "\t\tfor j in range(num):\n",
    "\t\t\tsequence[i].append(zeros)\n",
    "\t\t\tsequence[i].insert(0, zeros)\n",
    "\tX = []\n",
    "\ttemp = []\n",
    "\tfor k in range(len(sequence)):\n",
    "\t\tfor l in range(len( sequence[k])-(size-1) ):\n",
    "\t\t\ttemp = sequence[k][l:l+size]\n",
    "\t\t\tX.append(temp)\n",
    "\t\t\ttemp = []\n",
    "\treturn X"
   ]
  },
  {
   "cell_type": "code",
   "execution_count": 15,
   "metadata": {
    "id": "qZYCEkVPiwoO"
   },
   "outputs": [],
   "source": [
    "X = window_padding_data(17,split_primary)"
   ]
  },
  {
   "cell_type": "code",
   "execution_count": 16,
   "metadata": {
    "id": "oCCJxGV8i6BO"
   },
   "outputs": [],
   "source": [
    "X = np.array(X)"
   ]
  },
  {
   "cell_type": "code",
   "execution_count": 17,
   "metadata": {
    "colab": {
     "base_uri": "https://localhost:8080/"
    },
    "id": "aIyLPQ1ei_HX",
    "outputId": "df5becc2-99c9-4feb-db3c-04077ef2704f"
   },
   "outputs": [
    {
     "data": {
      "text/plain": [
       "(82487, 17, 20)"
      ]
     },
     "execution_count": 17,
     "metadata": {},
     "output_type": "execute_result"
    }
   ],
   "source": [
    "X.shape"
   ]
  },
  {
   "cell_type": "code",
   "execution_count": 18,
   "metadata": {
    "id": "WRin7WnIjC3_"
   },
   "outputs": [],
   "source": [
    "p=X.shape\n",
    "X = X.reshape(p[0], 17*20)"
   ]
  },
  {
   "cell_type": "code",
   "execution_count": 19,
   "metadata": {
    "colab": {
     "base_uri": "https://localhost:8080/"
    },
    "id": "75clKVezjJzG",
    "outputId": "a224bc8e-7fa1-4c61-aadd-4388eed45d06"
   },
   "outputs": [],
   "source": [
    "X_train, X_test, y_train, y_test = train_test_split(X, y_label, test_size = 0.30)\n"
   ]
  },
  {
   "cell_type": "code",
   "execution_count": 20,
   "metadata": {
    "id": "Elo0GcSYjYiw"
   },
   "outputs": [
    {
     "name": "stdout",
     "output_type": "stream",
     "text": [
      "              precision    recall  f1-score   support\n",
      "\n",
      "           0       0.86      0.88      0.87      3347\n",
      "           1       0.88      0.95      0.91     14898\n",
      "           2       0.88      0.79      0.83      2588\n",
      "           3       0.74      0.56      0.64       501\n",
      "           4       0.69      0.60      0.64       487\n",
      "           6       0.69      0.45      0.55      1285\n",
      "           7       0.75      0.53      0.62      1641\n",
      "\n",
      "    accuracy                           0.86     24747\n",
      "   macro avg       0.78      0.68      0.72     24747\n",
      "weighted avg       0.85      0.86      0.85     24747\n",
      "\n"
     ]
    }
   ],
   "source": [
    "svc = SVC(kernel='rbf', gamma = 0.1, C=4.0)\n",
    "svc.fit(X_train, y_train)\n",
    "y_pred = svc.predict(X_test)\n",
    "y_true = y_test\n",
    "print(classification_report(y_true,y_pred))"
   ]
  },
  {
   "cell_type": "code",
   "execution_count": 21,
   "metadata": {},
   "outputs": [
    {
     "name": "stdout",
     "output_type": "stream",
     "text": [
      "              precision    recall  f1-score   support\n",
      "\n",
      "           0       0.86      0.88      0.87      3347\n",
      "           1       0.87      0.95      0.91     14898\n",
      "           2       0.88      0.79      0.83      2588\n",
      "           3       0.75      0.55      0.64       501\n",
      "           4       0.69      0.60      0.64       487\n",
      "           6       0.70      0.45      0.54      1285\n",
      "           7       0.76      0.52      0.62      1641\n",
      "\n",
      "    accuracy                           0.86     24747\n",
      "   macro avg       0.79      0.68      0.72     24747\n",
      "weighted avg       0.85      0.86      0.85     24747\n",
      "\n"
     ]
    }
   ],
   "source": [
    "svc = SVC(kernel='rbf', gamma = 0.1, C=3.0)\n",
    "svc.fit(X_train, y_train)\n",
    "y_pred = svc.predict(X_test)\n",
    "y_true = y_test\n",
    "print(classification_report(y_true,y_pred))"
   ]
  },
  {
   "cell_type": "code",
   "execution_count": 22,
   "metadata": {},
   "outputs": [
    {
     "name": "stdout",
     "output_type": "stream",
     "text": [
      "              precision    recall  f1-score   support\n",
      "\n",
      "           0       0.87      0.88      0.87      3347\n",
      "           1       0.87      0.96      0.91     14898\n",
      "           2       0.88      0.78      0.83      2588\n",
      "           3       0.77      0.55      0.64       501\n",
      "           4       0.69      0.58      0.63       487\n",
      "           6       0.70      0.44      0.54      1285\n",
      "           7       0.76      0.51      0.61      1641\n",
      "\n",
      "    accuracy                           0.86     24747\n",
      "   macro avg       0.79      0.67      0.72     24747\n",
      "weighted avg       0.85      0.86      0.85     24747\n",
      "\n"
     ]
    }
   ],
   "source": [
    "svc = SVC(kernel='rbf', gamma = 0.1, C=2.5)\n",
    "svc.fit(X_train, y_train)\n",
    "y_pred = svc.predict(X_test)\n",
    "y_true = y_test\n",
    "print(classification_report(y_true,y_pred))"
   ]
  },
  {
   "cell_type": "code",
   "execution_count": 23,
   "metadata": {},
   "outputs": [
    {
     "name": "stdout",
     "output_type": "stream",
     "text": [
      "              precision    recall  f1-score   support\n",
      "\n",
      "           0       0.87      0.87      0.87      3347\n",
      "           1       0.85      0.96      0.90     14898\n",
      "           2       0.88      0.75      0.81      2588\n",
      "           3       0.78      0.45      0.57       501\n",
      "           4       0.71      0.54      0.61       487\n",
      "           6       0.75      0.41      0.53      1285\n",
      "           7       0.80      0.47      0.59      1641\n",
      "\n",
      "    accuracy                           0.85     24747\n",
      "   macro avg       0.81      0.64      0.70     24747\n",
      "weighted avg       0.84      0.85      0.84     24747\n",
      "\n"
     ]
    }
   ],
   "source": [
    "svc = SVC(kernel='rbf', gamma = 0.1, C=1.5)\n",
    "svc.fit(X_train, y_train)\n",
    "y_pred = svc.predict(X_test)\n",
    "y_true = y_test\n",
    "print(classification_report(y_true,y_pred))"
   ]
  }
 ],
 "metadata": {
  "colab": {
   "collapsed_sections": [],
   "name": "SVM_Q8.ipynb",
   "provenance": []
  },
  "kernelspec": {
   "display_name": "Python 3",
   "language": "python",
   "name": "python3"
  },
  "language_info": {
   "codemirror_mode": {
    "name": "ipython",
    "version": 3
   },
   "file_extension": ".py",
   "mimetype": "text/x-python",
   "name": "python",
   "nbconvert_exporter": "python",
   "pygments_lexer": "ipython3",
   "version": "3.8.8"
  }
 },
 "nbformat": 4,
 "nbformat_minor": 1
}
