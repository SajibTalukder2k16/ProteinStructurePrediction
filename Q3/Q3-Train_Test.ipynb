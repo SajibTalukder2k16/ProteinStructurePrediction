{
 "cells": [
  {
   "cell_type": "markdown",
   "metadata": {
    "id": "oTe2o8A7EqtS"
   },
   "source": [
    "# Library"
   ]
  },
  {
   "cell_type": "code",
   "execution_count": 1,
   "metadata": {},
   "outputs": [],
   "source": [
    "import numpy as np\n",
    "import pandas as pd\n",
    "import matplotlib.pyplot as plt\n",
    "%matplotlib inline\n",
    "import csv\n",
    "from sklearn.model_selection import train_test_split\n",
    "from sklearn.svm import SVC\n",
    "from sklearn.metrics import classification_report\n",
    "import matplotlib.pyplot as plt\n",
    "%matplotlib inline\n",
    "import seaborn as sns #visualisation\n",
    "sns.set(color_codes=True)"
   ]
  },
  {
   "cell_type": "code",
   "execution_count": 2,
   "metadata": {},
   "outputs": [],
   "source": [
    "import warnings\n",
    "warnings.filterwarnings(\"ignore\", category=np.VisibleDeprecationWarning)                  "
   ]
  },
  {
   "cell_type": "markdown",
   "metadata": {},
   "source": [
    "# Load Data"
   ]
  },
  {
   "cell_type": "code",
   "execution_count": 3,
   "metadata": {},
   "outputs": [
    {
     "name": "stdout",
     "output_type": "stream",
     "text": [
      "393732\n"
     ]
    },
    {
     "data": {
      "text/html": [
       "<div>\n",
       "<style scoped>\n",
       "    .dataframe tbody tr th:only-of-type {\n",
       "        vertical-align: middle;\n",
       "    }\n",
       "\n",
       "    .dataframe tbody tr th {\n",
       "        vertical-align: top;\n",
       "    }\n",
       "\n",
       "    .dataframe thead th {\n",
       "        text-align: right;\n",
       "    }\n",
       "</style>\n",
       "<table border=\"1\" class=\"dataframe\">\n",
       "  <thead>\n",
       "    <tr style=\"text-align: right;\">\n",
       "      <th></th>\n",
       "      <th>pdb_id</th>\n",
       "      <th>chain_code</th>\n",
       "      <th>seq</th>\n",
       "      <th>sst8</th>\n",
       "      <th>sst3</th>\n",
       "      <th>len</th>\n",
       "      <th>has_nonstd_aa</th>\n",
       "    </tr>\n",
       "  </thead>\n",
       "  <tbody>\n",
       "    <tr>\n",
       "      <th>124730</th>\n",
       "      <td>101M</td>\n",
       "      <td>A</td>\n",
       "      <td>MVLSEGEWQLVLHVWAKVEADVAGHGQDILIRLFKSHPETLEKFDR...</td>\n",
       "      <td>CCCCHHHHHHHHHHHHHHGGGHHHHHHHHHHHHHHHCGGGGGGCTT...</td>\n",
       "      <td>CCCCHHHHHHHHHHHHHHHHHHHHHHHHHHHHHHHHCHHHHHHCCC...</td>\n",
       "      <td>154</td>\n",
       "      <td>False</td>\n",
       "    </tr>\n",
       "    <tr>\n",
       "      <th>138377</th>\n",
       "      <td>102L</td>\n",
       "      <td>A</td>\n",
       "      <td>MNIFEMLRIDEGLRLKIYKDTEGYYTIGIGHLLTKSPSLNAAAKSE...</td>\n",
       "      <td>CCHHHHHHHHHCCEEEEEECTTSCEEEETTEEEESSSCTTTHHHHH...</td>\n",
       "      <td>CCHHHHHHHHHCCEEEEEECCCCCEEEECCEEEECCCCCCCHHHHH...</td>\n",
       "      <td>165</td>\n",
       "      <td>False</td>\n",
       "    </tr>\n",
       "    <tr>\n",
       "      <th>124731</th>\n",
       "      <td>102M</td>\n",
       "      <td>A</td>\n",
       "      <td>MVLSEGEWQLVLHVWAKVEADVAGHGQDILIRLFKSHPETLEKFDR...</td>\n",
       "      <td>CCCCHHHHHHHHHHHHHHGGGHHHHHHHHHHHHHHHCGGGGGGCTT...</td>\n",
       "      <td>CCCCHHHHHHHHHHHHHHHHHHHHHHHHHHHHHHHHCHHHHHHCCC...</td>\n",
       "      <td>154</td>\n",
       "      <td>False</td>\n",
       "    </tr>\n",
       "    <tr>\n",
       "      <th>140434</th>\n",
       "      <td>103L</td>\n",
       "      <td>A</td>\n",
       "      <td>MNIFEMLRIDEGLRLKIYKDTEGYYTIGIGHLLTKSPSLNSLDAAK...</td>\n",
       "      <td>CCHHHHHHHHHCCEEEEEECTTSCEEEETTEECCCCCCCCCHHHHH...</td>\n",
       "      <td>CCHHHHHHHHHCCEEEEEECCCCCEEEECCEECCCCCCCCCHHHHH...</td>\n",
       "      <td>167</td>\n",
       "      <td>False</td>\n",
       "    </tr>\n",
       "    <tr>\n",
       "      <th>124732</th>\n",
       "      <td>103M</td>\n",
       "      <td>A</td>\n",
       "      <td>MVLSEGEWQLVLHVWAKVEADVAGHGQDILIRLFKSHPETLEKFDR...</td>\n",
       "      <td>CCCCHHHHHHHHHHHHHHGGGHHHHHHHHHHHHHHHCGGGGGGCTT...</td>\n",
       "      <td>CCCCHHHHHHHHHHHHHHHHHHHHHHHHHHHHHHHHCHHHHHHCCC...</td>\n",
       "      <td>154</td>\n",
       "      <td>False</td>\n",
       "    </tr>\n",
       "  </tbody>\n",
       "</table>\n",
       "</div>"
      ],
      "text/plain": [
       "       pdb_id chain_code                                                seq  \\\n",
       "124730   101M          A  MVLSEGEWQLVLHVWAKVEADVAGHGQDILIRLFKSHPETLEKFDR...   \n",
       "138377   102L          A  MNIFEMLRIDEGLRLKIYKDTEGYYTIGIGHLLTKSPSLNAAAKSE...   \n",
       "124731   102M          A  MVLSEGEWQLVLHVWAKVEADVAGHGQDILIRLFKSHPETLEKFDR...   \n",
       "140434   103L          A  MNIFEMLRIDEGLRLKIYKDTEGYYTIGIGHLLTKSPSLNSLDAAK...   \n",
       "124732   103M          A  MVLSEGEWQLVLHVWAKVEADVAGHGQDILIRLFKSHPETLEKFDR...   \n",
       "\n",
       "                                                     sst8  \\\n",
       "124730  CCCCHHHHHHHHHHHHHHGGGHHHHHHHHHHHHHHHCGGGGGGCTT...   \n",
       "138377  CCHHHHHHHHHCCEEEEEECTTSCEEEETTEEEESSSCTTTHHHHH...   \n",
       "124731  CCCCHHHHHHHHHHHHHHGGGHHHHHHHHHHHHHHHCGGGGGGCTT...   \n",
       "140434  CCHHHHHHHHHCCEEEEEECTTSCEEEETTEECCCCCCCCCHHHHH...   \n",
       "124732  CCCCHHHHHHHHHHHHHHGGGHHHHHHHHHHHHHHHCGGGGGGCTT...   \n",
       "\n",
       "                                                     sst3  len  has_nonstd_aa  \n",
       "124730  CCCCHHHHHHHHHHHHHHHHHHHHHHHHHHHHHHHHCHHHHHHCCC...  154          False  \n",
       "138377  CCHHHHHHHHHCCEEEEEECCCCCEEEECCEEEECCCCCCCHHHHH...  165          False  \n",
       "124731  CCCCHHHHHHHHHHHHHHHHHHHHHHHHHHHHHHHHCHHHHHHCCC...  154          False  \n",
       "140434  CCHHHHHHHHHCCEEEEEECCCCCEEEECCEECCCCCCCCCHHHHH...  167          False  \n",
       "124732  CCCCHHHHHHHHHHHHHHHHHHHHHHHHHHHHHHHHCHHHHHHCCC...  154          False  "
      ]
     },
     "execution_count": 3,
     "metadata": {},
     "output_type": "execute_result"
    }
   ],
   "source": [
    "df = pd.read_csv('D:\\Study\\Thesis\\Q8\\PDB_CLEAN_DATA.csv').sort_values(by=['pdb_id','chain_code'])\n",
    "print(len(df))\n",
    "# df.len.hist(bins=100)\n",
    "# print(df.shape)\n",
    "\n",
    "# def seq2ngrams(seqs, n=3):\n",
    "#     return np.array([[seq[i:i+n] for i in range(len(seq))] for seq in seqs])\n",
    "\n",
    "# maxlen_seq = 128\n",
    "# input_seqs, target_seqs = df[['seq', 'sst3']][(df.len <= maxlen_seq) & (~df.has_nonstd_aa)].values.T\n",
    "# input_grams = seq2ngrams(input_seqs)\n",
    "# print(len(input_seqs))\n",
    "df.head()"
   ]
  },
  {
   "cell_type": "markdown",
   "metadata": {},
   "source": [
    "# Full Data Analysis"
   ]
  },
  {
   "cell_type": "code",
   "execution_count": 4,
   "metadata": {},
   "outputs": [
    {
     "name": "stdout",
     "output_type": "stream",
     "text": [
      "(393732, 7)\n"
     ]
    },
    {
     "data": {
      "image/png": "[encoded data removed]",
      "text/plain": [
       "<Figure size 720x360 with 1 Axes>"
      ]
     },
     "metadata": {},
     "output_type": "display_data"
    }
   ],
   "source": [
    "df.len.hist(bins=100,figsize=[10,5],)\n",
    "print(df.shape)"
   ]
  },
  {
   "cell_type": "markdown",
   "metadata": {},
   "source": [
    "# Clear invalid Data having '*'"
   ]
  },
  {
   "cell_type": "code",
   "execution_count": 10,
   "metadata": {},
   "outputs": [
    {
     "data": {
      "text/plain": [
       "(386333, 7)"
      ]
     },
     "execution_count": 10,
     "metadata": {},
     "output_type": "execute_result"
    }
   ],
   "source": [
    "def clear_asterisks(df, seqs_column_name, pct=0.00001):\n",
    "    indices = []\n",
    "    dropped = 0\n",
    "    for i, seq in enumerate(df[seqs_column_name]):\n",
    "        if (seq.count('*')*100/len(seq)) <= pct: indices.append(i)\n",
    "#         else:\n",
    "#           print(seq)\n",
    "    return df.iloc[indices]\n",
    "\n",
    "df = clear_asterisks(df,'seq')\n",
    "df.shape"
   ]
  },
  {
   "cell_type": "markdown",
   "metadata": {},
   "source": [
    "# Cleaned Data Analysis"
   ]
  },
  {
   "cell_type": "code",
   "execution_count": 11,
   "metadata": {},
   "outputs": [
    {
     "data": {
      "image/png": "[encoded data removed]",
      "text/plain": [
       "<Figure size 432x288 with 1 Axes>"
      ]
     },
     "metadata": {},
     "output_type": "display_data"
    }
   ],
   "source": [
    "df1 = df[['seq','len','sst3','sst8']][(df['len']<=256)&(df['has_nonstd_aa']==False)]\n",
    "df1.drop_duplicates(subset='seq',inplace=True)\n",
    "plt.hist(x='len',data=df1,bins=100,histtype='bar');\n",
    "plt.title('histogram of sequence lengths <= 256');"
   ]
  },
  {
   "cell_type": "markdown",
   "metadata": {},
   "source": [
    "# Q3 Structure Count"
   ]
  },
  {
   "cell_type": "code",
   "execution_count": 12,
   "metadata": {},
   "outputs": [
    {
     "name": "stdout",
     "output_type": "stream",
     "text": [
      "dict_a:   {'C': 2958711, 'H': 3844017, 'E': 1307815}\n",
      "dict_f:   {'C': 1364525, 'H': 1400272, 'E': 1190666}\n",
      "dict_p:   {'C': 3450091, 'H': 834052, 'E': 429999}\n",
      "dict_s:   {'C': 3549189, 'H': 1693692, 'E': 1151297}\n"
     ]
    },
    {
     "data": {
      "image/png": "[encoded data removed]",
      "text/plain": [
       "<Figure size 1008x288 with 2 Axes>"
      ]
     },
     "metadata": {},
     "output_type": "display_data"
    },
    {
     "data": {
      "image/png": "[encoded data removed]",
      "text/plain": [
       "<Figure size 1008x288 with 2 Axes>"
      ]
     },
     "metadata": {},
     "output_type": "display_data"
    }
   ],
   "source": [
    "dict_a = {'C':[],'H':[],'E':[]}\n",
    "dict_f = {'C':[],'H':[],'E':[]}\n",
    "dict_p = {'C':[],'H':[],'E':[]}\n",
    "dict_s = {'C':[],'H':[],'E':[]}\n",
    "\n",
    "for se,sst in zip(df['seq'],df['sst3']):\n",
    "    for s,ss in zip(se,sst):\n",
    "        if s == 'A':\n",
    "            if ss == 'C': dict_a['C'].append(1)\n",
    "            elif ss == 'H': dict_a['H'].append(1)\n",
    "            elif ss == 'E': dict_a['E'].append(1)\n",
    "        elif s == 'F':        \n",
    "            if ss == 'C': dict_f['C'].append(1)\n",
    "            elif ss == 'H': dict_f['H'].append(1)\n",
    "            elif ss == 'E': dict_f['E'].append(1)\n",
    "        elif s == 'P':        \n",
    "            if ss == 'C': dict_p['C'].append(1)\n",
    "            elif ss == 'H': dict_p['H'].append(1)\n",
    "            elif ss == 'E': dict_p['E'].append(1)\n",
    "        elif s == 'S':        \n",
    "            if ss == 'C': dict_s['C'].append(1)\n",
    "            elif ss == 'H': dict_s['H'].append(1)\n",
    "            elif ss == 'E': dict_s['E'].append(1)\n",
    "                \n",
    "                \n",
    "for k in dict_a.keys(): dict_a[k] = sum(dict_a[k])\n",
    "for k in dict_f.keys(): dict_f[k] = sum(dict_f[k])\n",
    "for k in dict_p.keys(): dict_p[k] = sum(dict_p[k])\n",
    "for k in dict_s.keys(): dict_s[k] = sum(dict_s[k])\n",
    "print('dict_a:  ',dict_a)\n",
    "print('dict_f:  ',dict_f)\n",
    "print('dict_p:  ',dict_p)\n",
    "print('dict_s:  ',dict_s)\n",
    "\n",
    "\n",
    "plt.figure(figsize=(14,4));\n",
    "plt.subplot(1,2,1);\n",
    "sns.barplot(x=list(dict_a.keys()),y=list(dict_a.values()),color='green');\n",
    "plt.title('Secondary Structure character counts for aminoacid A');\n",
    "plt.subplot(1,2,2);\n",
    "sns.barplot(x=list(dict_f.keys()),y=list(dict_f.values()),color='blue');\n",
    "plt.title('Secondary Structure character counts for aminoacid F');\n",
    "plt.figure(figsize=(14,4));\n",
    "plt.subplot(1,2,1);\n",
    "sns.barplot(x=list(dict_p.keys()),y=list(dict_p.values()),color='gray');\n",
    "plt.title('Secondary Structure character counts for aminoacid P');\n",
    "plt.subplot(1,2,2);\n",
    "sns.barplot(x=list(dict_s.keys()),y=list(dict_s.values()),color='purple');\n",
    "plt.title('Secondary Structure character counts for aminoacid S');"
   ]
  },
  {
   "cell_type": "markdown",
   "metadata": {},
   "source": [
    "# Q8 Structure Count"
   ]
  },
  {
   "cell_type": "code",
   "execution_count": 14,
   "metadata": {},
   "outputs": [
    {
     "name": "stdout",
     "output_type": "stream",
     "text": [
      "dict_a:   {'C': 1761874, 'E': 1251298, 'H': 3555768, 'B': 56517, 'G': 287048, 'I': 1201, 'T': 692613, 'S': 504224}\n",
      "dict_f:   {'C': 791362, 'E': 1122680, 'H': 1249766, 'B': 67986, 'G': 149276, 'I': 1230, 'T': 297825, 'S': 275338}\n",
      "dict_p:   {'C': 2213726, 'E': 379475, 'H': 605613, 'B': 50524, 'G': 227993, 'I': 446, 'T': 769222, 'S': 467143}\n",
      "dict_s:   {'C': 2156131, 'E': 1079518, 'H': 1425388, 'B': 71779, 'G': 267397, 'I': 907, 'T': 723520, 'S': 669538}\n",
      "dict_n:   {'C': 1266614, 'E': 519772, 'H': 972454, 'B': 49287, 'G': 159520, 'I': 698, 'T': 759951, 'S': 520902}\n",
      "dict_q:   {'C': 915759, 'E': 600640, 'H': 1475081, 'B': 38058, 'G': 131551, 'I': 521, 'T': 373465, 'S': 296269}\n",
      "dict_l:   {'C': 1754747, 'E': 2059303, 'H': 3836122, 'B': 108048, 'G': 289810, 'I': 2722, 'T': 590773, 'S': 489876}\n",
      "dict_v:   {'C': 1416527, 'E': 2714794, 'H': 2098707, 'B': 109049, 'G': 109020, 'I': 1806, 'T': 302447, 'S': 362964}\n"
     ]
    },
    {
     "data": {
      "text/plain": [
       "Text(0.5, 1.0, 'Secondary Structure character counts for aminoacid V')"
      ]
     },
     "execution_count": 14,
     "metadata": {},
     "output_type": "execute_result"
    },
    {
     "data": {
      "image/png": "[encoded data removed]",
      "text/plain": [
       "<Figure size 1008x288 with 2 Axes>"
      ]
     },
     "metadata": {},
     "output_type": "display_data"
    },
    {
     "data": {
      "image/png": "[encoded data removed]",
      "text/plain": [
       "<Figure size 1008x288 with 2 Axes>"
      ]
     },
     "metadata": {},
     "output_type": "display_data"
    },
    {
     "data": {
      "image/png": "[encoded data removed]",
      "text/plain": [
       "<Figure size 1008x288 with 2 Axes>"
      ]
     },
     "metadata": {},
     "output_type": "display_data"
    },
    {
     "data": {
      "image/png": "[encoded data removed]",
      "text/plain": [
       "<Figure size 1008x288 with 2 Axes>"
      ]
     },
     "metadata": {},
     "output_type": "display_data"
    }
   ],
   "source": [
    "dict_a = {'C':[],'E':[],'H':[],'B':[],'G':[],'I':[],'T':[],'S':[]}\n",
    "dict_f = {'C':[],'E':[],'H':[],'B':[],'G':[],'I':[],'T':[],'S':[]}\n",
    "dict_p = {'C':[],'E':[],'H':[],'B':[],'G':[],'I':[],'T':[],'S':[]}\n",
    "dict_s = {'C':[],'E':[],'H':[],'B':[],'G':[],'I':[],'T':[],'S':[]}\n",
    "dict_n = {'C':[],'E':[],'H':[],'B':[],'G':[],'I':[],'T':[],'S':[]}\n",
    "dict_q = {'C':[],'E':[],'H':[],'B':[],'G':[],'I':[],'T':[],'S':[]}\n",
    "dict_l = {'C':[],'E':[],'H':[],'B':[],'G':[],'I':[],'T':[],'S':[]}\n",
    "dict_v = {'C':[],'E':[],'H':[],'B':[],'G':[],'I':[],'T':[],'S':[]}\n",
    "\n",
    "for se,sst in zip(df['seq'],df['sst8']):\n",
    "    for s,ss in zip(se,sst):\n",
    "        if s == 'A':\n",
    "            dict_a[ss].append(1)\n",
    "        elif s == 'F':        \n",
    "            dict_f[ss].append(1)\n",
    "        elif s == 'P':        \n",
    "            dict_p[ss].append(1)\n",
    "        elif s == 'S':        \n",
    "            dict_s[ss].append(1)\n",
    "        elif s == 'N':        \n",
    "            dict_n[ss].append(1)\n",
    "        elif s == 'Q':        \n",
    "            dict_q[ss].append(1)\n",
    "        elif s == 'L':        \n",
    "            dict_l[ss].append(1)\n",
    "        elif s == 'V':        \n",
    "            dict_v[ss].append(1)\n",
    "                \n",
    "for k in dict_a.keys(): dict_a[k] = sum(dict_a[k])\n",
    "for k in dict_f.keys(): dict_f[k] = sum(dict_f[k])\n",
    "for k in dict_p.keys(): dict_p[k] = sum(dict_p[k])\n",
    "for k in dict_s.keys(): dict_s[k] = sum(dict_s[k])\n",
    "for k in dict_n.keys(): dict_n[k] = sum(dict_n[k])\n",
    "for k in dict_q.keys(): dict_q[k] = sum(dict_q[k])\n",
    "for k in dict_l.keys(): dict_l[k] = sum(dict_l[k])\n",
    "for k in dict_v.keys(): dict_v[k] = sum(dict_v[k])\n",
    "print('dict_a:  ',dict_a)\n",
    "print('dict_f:  ',dict_f)\n",
    "print('dict_p:  ',dict_p)\n",
    "print('dict_s:  ',dict_s)\n",
    "print('dict_n:  ',dict_n)\n",
    "print('dict_q:  ',dict_q)\n",
    "print('dict_l:  ',dict_l)\n",
    "print('dict_v:  ',dict_v)\n",
    "\n",
    "\n",
    "plt.figure(figsize=(14,4));\n",
    "plt.subplot(1,2,1);\n",
    "sns.barplot(x=list(dict_a.keys()),y=list(dict_a.values()),color='gray');\n",
    "plt.title('Secondary Structure character counts for aminoacid A');\n",
    "plt.subplot(1,2,2);\n",
    "sns.barplot(x=list(dict_f.keys()),y=list(dict_f.values()),color='green');\n",
    "plt.title('Secondary Structure character counts for aminoacid F');\n",
    "plt.figure(figsize=(14,4));\n",
    "plt.subplot(1,2,1);\n",
    "sns.barplot(x=list(dict_p.keys()),y=list(dict_p.values()),color='orange');\n",
    "plt.title('Secondary Structure character counts for aminoacid P');\n",
    "plt.subplot(1,2,2);\n",
    "sns.barplot(x=list(dict_s.keys()),y=list(dict_s.values()),color='purple');\n",
    "plt.title('Secondary Structure character counts for aminoacid S');\n",
    "plt.figure(figsize=(14,4));\n",
    "plt.subplot(1,2,1);\n",
    "sns.barplot(x=list(dict_n.keys()),y=list(dict_n.values()),color='violet');\n",
    "plt.title('Secondary Structure character counts for aminoacid N');\n",
    "plt.subplot(1,2,2);\n",
    "sns.barplot(x=list(dict_q.keys()),y=list(dict_q.values()),color='blue');\n",
    "plt.title('Secondary Structure character counts for aminoacid Q');\n",
    "plt.figure(figsize=(14,4));\n",
    "plt.subplot(1,2,1);\n",
    "sns.barplot(x=list(dict_l.keys()),y=list(dict_l.values()),color='indigo');\n",
    "plt.title('Secondary Structure character counts for aminoacid L');\n",
    "plt.subplot(1,2,2);\n",
    "sns.barplot(x=list(dict_v.keys()),y=list(dict_v.values()),color='red');\n",
    "plt.title('Secondary Structure character counts for aminoacid V')"
   ]
  },
  {
   "cell_type": "markdown",
   "metadata": {},
   "source": [
    "# Amino Acid Count for Q3 "
   ]
  },
  {
   "cell_type": "code",
   "execution_count": 15,
   "metadata": {},
   "outputs": [
    {
     "name": "stdout",
     "output_type": "stream",
     "text": [
      "dict_c:   {'A': 2958711, 'R': 2198148, 'N': 2547467, 'D': 3329527, 'C': 552910, 'Q': 1585493, 'G': 5212271, 'E': 2695372, 'H': 1498590, 'I': 1546301, 'L': 2835396, 'K': 2721765, 'M': 936800, 'F': 1364525, 'P': 3450091, 'S': 3549189, 'T': 2715820, 'W': 441584, 'Y': 1209830, 'V': 2081938, '*': 0}\n",
      "dict_h:   {'A': 3844017, 'R': 2093708, 'N': 1132672, 'D': 1714467, 'C': 400056, 'Q': 1607153, 'G': 1257731, 'E': 3062460, 'H': 742338, 'I': 2112918, 'L': 4128654, 'K': 2255832, 'M': 969599, 'F': 1400272, 'P': 834052, 'S': 1693692, 'T': 1489707, 'W': 531055, 'Y': 1189441, 'V': 2209533, '*': 0}\n",
      "dict_e:   {'A': 1307815, 'R': 956131, 'N': 569059, 'D': 665040, 'C': 416318, 'Q': 638698, 'G': 1052559, 'E': 943221, 'H': 484611, 'I': 2026729, 'L': 2167351, 'K': 1003252, 'M': 472818, 'F': 1190666, 'P': 429999, 'S': 1151297, 'T': 1456465, 'W': 384234, 'Y': 1081356, 'V': 2823843, '*': 0}\n"
     ]
    },
    {
     "data": {
      "image/png": "[encoded data removed]",
      "text/plain": [
       "<Figure size 1008x288 with 2 Axes>"
      ]
     },
     "metadata": {},
     "output_type": "display_data"
    },
    {
     "data": {
      "image/png": "[encoded data removed]",
      "text/plain": [
       "<Figure size 1008x288 with 1 Axes>"
      ]
     },
     "metadata": {},
     "output_type": "display_data"
    }
   ],
   "source": [
    "dict_c = {'A':[],'R':[],'N':[],'D':[],'C':[],'Q':[],'G':[],'E':[],'H':[],'I':[],'L':[],'K':[],'M':[],'F':[],'P':[],'S':[],'T':[],'W':[],'Y':[],'V':[],'*':[]}\n",
    "dict_h = {'A':[],'R':[],'N':[],'D':[],'C':[],'Q':[],'G':[],'E':[],'H':[],'I':[],'L':[],'K':[],'M':[],'F':[],'P':[],'S':[],'T':[],'W':[],'Y':[],'V':[],'*':[]}\n",
    "dict_e = {'A':[],'R':[],'N':[],'D':[],'C':[],'Q':[],'G':[],'E':[],'H':[],'I':[],'L':[],'K':[],'M':[],'F':[],'P':[],'S':[],'T':[],'W':[],'Y':[],'V':[],'*':[]}\n",
    "\n",
    "for se,sst in zip(df['seq'],df['sst3']):\n",
    "    for s,ss in zip(se,sst):\n",
    "        if ss == 'C':\n",
    "            dict_c[s].append(1)\n",
    "        elif ss == 'H':        \n",
    "            dict_h[s].append(1)\n",
    "        elif ss == 'E':        \n",
    "            dict_e[s].append(1)\n",
    "                \n",
    "                \n",
    "for k in dict_c.keys(): dict_c[k] = sum(dict_c[k])\n",
    "for k in dict_h.keys(): dict_h[k] = sum(dict_h[k])\n",
    "for k in dict_e.keys(): dict_e[k] = sum(dict_e[k])\n",
    "\n",
    "print('dict_c:  ',dict_c)\n",
    "print('dict_h:  ',dict_h)\n",
    "print('dict_e:  ',dict_e)\n",
    "# print('dict_s:  ',dict_s)\n",
    "\n",
    "\n",
    "plt.figure(figsize=(14,4));\n",
    "plt.subplot(1,2,1);\n",
    "sns.barplot(x=list(dict_c.keys()),y=list(dict_c.values()),color='green');\n",
    "plt.title('Amino Acid character counts for Structure C');\n",
    "plt.subplot(1,2,2);\n",
    "sns.barplot(x=list(dict_h.keys()),y=list(dict_h.values()),color='purple');\n",
    "plt.title('Amino Acid character counts for Structure H');\n",
    "plt.figure(figsize=(14,4));\n",
    "plt.subplot(1,1,1);\n",
    "sns.barplot(x=list(dict_e.keys()),y=list(dict_e.values()),color='blue');\n",
    "plt.title('Amino Acid character counts for Structure E');\n",
    "# plt.subplot(1,2,2);\n",
    "# sns.barplot(x=list(dict_s.keys()),y=list(dict_s.values()),color='gray');\n",
    "# plt.title('Secondary Structure character counts for aminoacid S');"
   ]
  },
  {
   "cell_type": "markdown",
   "metadata": {},
   "source": [
    "# Amino Acid Count for Q8 "
   ]
  },
  {
   "cell_type": "code",
   "execution_count": 16,
   "metadata": {},
   "outputs": [
    {
     "name": "stdout",
     "output_type": "stream",
     "text": [
      "dict_c:   {'A': 1761874, 'R': 1240973, 'N': 1266614, 'D': 1814620, 'C': 350541, 'Q': 915759, 'G': 2121415, 'E': 1430037, 'H': 1000681, 'I': 1042929, 'L': 1754747, 'K': 1485904, 'M': 659760, 'F': 791362, 'P': 2213726, 'S': 2156131, 'T': 1682101, 'W': 243948, 'Y': 680227, 'V': 1416527, '*': 0}\n",
      "dict_h:   {'A': 3555768, 'R': 1917500, 'N': 972454, 'D': 1447208, 'C': 359564, 'Q': 1475081, 'G': 1054163, 'E': 2770332, 'H': 644316, 'I': 2000289, 'L': 3836122, 'K': 2048139, 'M': 904032, 'F': 1249766, 'P': 605613, 'S': 1425388, 'T': 1355895, 'W': 460420, 'Y': 1060361, 'V': 2098707, '*': 0}\n",
      "dict_e:   {'A': 1251298, 'R': 893586, 'N': 519772, 'D': 613466, 'C': 391551, 'Q': 600640, 'G': 988425, 'E': 900228, 'H': 452357, 'I': 1939162, 'L': 2059303, 'K': 945374, 'M': 446634, 'F': 1122680, 'P': 379475, 'S': 1079518, 'T': 1373572, 'W': 363082, 'Y': 1015996, 'V': 2714794, '*': 0}\n",
      "dict_g:   {'A': 287048, 'R': 175253, 'N': 159520, 'D': 265920, 'C': 40108, 'Q': 131551, 'G': 201220, 'E': 290765, 'H': 97479, 'I': 111259, 'L': 289810, 'K': 206465, 'M': 65135, 'F': 149276, 'P': 227993, 'S': 267397, 'T': 132598, 'W': 69831, 'Y': 128327, 'V': 109020, '*': 0}\n",
      "dict_b:   {'A': 56517, 'R': 62545, 'N': 49287, 'D': 51574, 'C': 24767, 'Q': 38058, 'G': 64134, 'E': 42993, 'H': 32254, 'I': 87567, 'L': 108048, 'K': 57878, 'M': 26184, 'F': 67986, 'P': 50524, 'S': 71779, 'T': 82893, 'W': 21152, 'Y': 65360, 'V': 109049, '*': 0}\n",
      "dict_i:   {'A': 1201, 'R': 955, 'N': 698, 'D': 1339, 'C': 384, 'Q': 521, 'G': 2348, 'E': 1363, 'H': 543, 'I': 1370, 'L': 2722, 'K': 1228, 'M': 432, 'F': 1230, 'P': 446, 'S': 907, 'T': 1214, 'W': 804, 'Y': 753, 'V': 1806, '*': 0}\n",
      "dict_t:   {'A': 692613, 'R': 516221, 'N': 759951, 'D': 822678, 'C': 102552, 'Q': 373465, 'G': 1826009, 'E': 722518, 'H': 266039, 'I': 231186, 'L': 590773, 'K': 688971, 'M': 149653, 'F': 297825, 'P': 769222, 'S': 723520, 'T': 484474, 'W': 109827, 'Y': 282725, 'V': 302447, '*': 0}\n",
      "dict_s:   {'A': 504224, 'R': 440954, 'N': 520902, 'D': 692229, 'C': 99817, 'Q': 296269, 'G': 1264847, 'E': 542817, 'H': 231870, 'I': 272186, 'L': 489876, 'K': 546890, 'M': 127387, 'F': 275338, 'P': 467143, 'S': 669538, 'T': 549245, 'W': 87809, 'Y': 246878, 'V': 362964, '*': 0}\n"
     ]
    },
    {
     "data": {
      "image/png": "[encoded data removed]",
      "text/plain": [
       "<Figure size 1008x288 with 2 Axes>"
      ]
     },
     "metadata": {},
     "output_type": "display_data"
    },
    {
     "data": {
      "image/png": "[encoded data removed]",
      "text/plain": [
       "<Figure size 1008x288 with 2 Axes>"
      ]
     },
     "metadata": {},
     "output_type": "display_data"
    },
    {
     "data": {
      "image/png": "[encoded data removed]",
      "text/plain": [
       "<Figure size 1008x288 with 2 Axes>"
      ]
     },
     "metadata": {},
     "output_type": "display_data"
    },
    {
     "data": {
      "image/png": "[encoded data removed]",
      "text/plain": [
       "<Figure size 1008x288 with 2 Axes>"
      ]
     },
     "metadata": {},
     "output_type": "display_data"
    }
   ],
   "source": [
    "# from pandas.core.internals.construction import dict_to_mgr\n",
    "dict_c = {'A':[],'R':[],'N':[],'D':[],'C':[],'Q':[],'G':[],'E':[],'H':[],'I':[],'L':[],'K':[],'M':[],'F':[],'P':[],'S':[],'T':[],'W':[],'Y':[],'V':[],'*':[]}\n",
    "dict_e = {'A':[],'R':[],'N':[],'D':[],'C':[],'Q':[],'G':[],'E':[],'H':[],'I':[],'L':[],'K':[],'M':[],'F':[],'P':[],'S':[],'T':[],'W':[],'Y':[],'V':[],'*':[]}\n",
    "dict_h = {'A':[],'R':[],'N':[],'D':[],'C':[],'Q':[],'G':[],'E':[],'H':[],'I':[],'L':[],'K':[],'M':[],'F':[],'P':[],'S':[],'T':[],'W':[],'Y':[],'V':[],'*':[]}\n",
    "dict_b = {'A':[],'R':[],'N':[],'D':[],'C':[],'Q':[],'G':[],'E':[],'H':[],'I':[],'L':[],'K':[],'M':[],'F':[],'P':[],'S':[],'T':[],'W':[],'Y':[],'V':[],'*':[]}\n",
    "dict_g = {'A':[],'R':[],'N':[],'D':[],'C':[],'Q':[],'G':[],'E':[],'H':[],'I':[],'L':[],'K':[],'M':[],'F':[],'P':[],'S':[],'T':[],'W':[],'Y':[],'V':[],'*':[]}\n",
    "dict_i = {'A':[],'R':[],'N':[],'D':[],'C':[],'Q':[],'G':[],'E':[],'H':[],'I':[],'L':[],'K':[],'M':[],'F':[],'P':[],'S':[],'T':[],'W':[],'Y':[],'V':[],'*':[]}\n",
    "dict_t = {'A':[],'R':[],'N':[],'D':[],'C':[],'Q':[],'G':[],'E':[],'H':[],'I':[],'L':[],'K':[],'M':[],'F':[],'P':[],'S':[],'T':[],'W':[],'Y':[],'V':[],'*':[]}\n",
    "dict_s = {'A':[],'R':[],'N':[],'D':[],'C':[],'Q':[],'G':[],'E':[],'H':[],'I':[],'L':[],'K':[],'M':[],'F':[],'P':[],'S':[],'T':[],'W':[],'Y':[],'V':[],'*':[]}\n",
    "\n",
    "for se,sst in zip(df['seq'],df['sst8']):\n",
    "    for s,ss in zip(se,sst):\n",
    "        if ss == 'C':\n",
    "            dict_c[s].append(1)\n",
    "        elif ss == 'H':        \n",
    "            dict_h[s].append(1)\n",
    "        elif ss == 'E':        \n",
    "            dict_e[s].append(1)\n",
    "        elif ss == 'B':        \n",
    "            dict_b[s].append(1)\n",
    "        elif ss == 'G':        \n",
    "            dict_g[s].append(1)\n",
    "        elif ss == 'I':        \n",
    "            dict_i[s].append(1)\n",
    "        elif ss == 'T':        \n",
    "            dict_t[s].append(1)\n",
    "        elif ss == 'S':        \n",
    "            dict_s[s].append(1)\n",
    "                \n",
    "for k in dict_c.keys(): dict_c[k] = sum(dict_c[k])\n",
    "for k in dict_h.keys(): dict_h[k] = sum(dict_h[k])\n",
    "for k in dict_e.keys(): dict_e[k] = sum(dict_e[k])\n",
    "for k in dict_g.keys(): dict_g[k] = sum(dict_g[k])\n",
    "for k in dict_b.keys(): dict_b[k] = sum(dict_b[k])\n",
    "for k in dict_i.keys(): dict_i[k] = sum(dict_i[k])\n",
    "for k in dict_t.keys(): dict_t[k] = sum(dict_t[k])\n",
    "for k in dict_s.keys(): dict_s[k] = sum(dict_s[k])\n",
    "\n",
    "print('dict_c:  ',dict_c)\n",
    "print('dict_h:  ',dict_h)\n",
    "print('dict_e:  ',dict_e)\n",
    "print('dict_g:  ',dict_g)\n",
    "print('dict_b:  ',dict_b)\n",
    "print('dict_i:  ',dict_i)\n",
    "print('dict_t:  ',dict_t)\n",
    "print('dict_s:  ',dict_s)\n",
    "\n",
    "\n",
    "plt.figure(figsize=(14,4));\n",
    "plt.subplot(1,2,1);\n",
    "sns.barplot(x=list(dict_c.keys()),y=list(dict_c.values()),color='gray');\n",
    "plt.title('Amino Acid character counts for Structure C');\n",
    "plt.subplot(1,2,2);\n",
    "sns.barplot(x=list(dict_e.keys()),y=list(dict_h.values()),color='green');\n",
    "plt.title('Amino Acid character counts for Structure E');\n",
    "plt.figure(figsize=(14,4));\n",
    "plt.subplot(1,2,1);\n",
    "sns.barplot(x=list(dict_h.keys()),y=list(dict_e.values()),color='orange');\n",
    "plt.title('Amino Acid character counts for Structure H');\n",
    "plt.subplot(1,2,2);\n",
    "sns.barplot(x=list(dict_b.keys()),y=list(dict_b.values()),color='blue');\n",
    "plt.title('Amino Acid character counts for Structure B');\n",
    "plt.figure(figsize=(14,4));\n",
    "plt.subplot(1,2,1);\n",
    "sns.barplot(x=list(dict_g.keys()),y=list(dict_g.values()),color='purple');\n",
    "plt.title('Amino Acid character counts for Structure G');\n",
    "plt.subplot(1,2,2);\n",
    "sns.barplot(x=list(dict_i.keys()),y=list(dict_i.values()),color='indigo');\n",
    "plt.title('Amino Acid character counts for Structure I');\n",
    "plt.figure(figsize=(14,4));\n",
    "plt.subplot(1,2,1);\n",
    "sns.barplot(x=list(dict_t.keys()),y=list(dict_t.values()),color='violet');\n",
    "plt.title('Amino Acid character counts for Structure T');\n",
    "plt.subplot(1,2,2);\n",
    "sns.barplot(x=list(dict_s.keys()),y=list(dict_s.values()),color='red');\n",
    "plt.title('Amino Acid character counts for Structure S');"
   ]
  },
  {
   "cell_type": "markdown",
   "metadata": {},
   "source": [
    "# PreProcessing"
   ]
  },
  {
   "cell_type": "code",
   "execution_count": 29,
   "metadata": {
    "colab": {
     "base_uri": "https://localhost:8080/"
    },
    "id": "wGM37O2XFuom",
    "outputId": "4cba68d6-8d84-46ec-b3a4-a4a62c991b1c"
   },
   "outputs": [
    {
     "name": "stdout",
     "output_type": "stream",
     "text": [
      "Processed 10001 lines.\n"
     ]
    }
   ],
   "source": [
    "raw_primary = []\n",
    "raw_secondary = []\n",
    "#lines=393732;\n",
    "lines=10000;\n",
    "#df=pd.read_csv('PDB_CLEAN_DATA.csv')\n",
    "#display(df)\n",
    "with open('D:\\Study\\Thesis\\Q8\\PDB_CLEAN_DATA.csv') as csv_file:\n",
    "\tcsv_reader = csv.reader(csv_file, delimiter=',')\n",
    "\tline_count = 0\n",
    "\tfor row in csv_reader:\n",
    "\t\tadd = True\n",
    "\t\tif line_count == 0:\n",
    "\t\t\tline_count += 1\n",
    "\t\telif line_count > lines:\n",
    "\t\t\tbreak;\n",
    "\t\telse:\n",
    "\t\t\tfor j in range(len(row[2])):\n",
    "\t\t\t\tif row[2][j] == '*':\n",
    "\t\t\t\t\t#print(line_count)\n",
    "\t\t\t\t\tadd = False\n",
    "\t\t\t\t\tbreak;\n",
    "\t\t\tif add == True:\n",
    "\t\t\t\tif(len(row)>=4):\n",
    "\t\t\t\t\traw_primary.append( row[2] )\n",
    "\t\t\t\t\traw_secondary.append( row[4] )\n",
    "\n",
    "\t\t\tline_count += 1\n",
    "\tprint(f'Processed {line_count} lines.')"
   ]
  },
  {
   "cell_type": "code",
   "execution_count": 30,
   "metadata": {
    "colab": {
     "base_uri": "https://localhost:8080/"
    },
    "id": "ogLu-xvdHI5u",
    "outputId": "cace1d12-244f-4f49-83db-8220ca32adaa"
   },
   "outputs": [
    {
     "name": "stdout",
     "output_type": "stream",
     "text": [
      "0 EDL\n",
      "1 KCK\n",
      "2 KAK\n",
      "3 KFK\n",
      "4 KAK\n",
      "5 KMK\n",
      "6 KHK\n",
      "7 KIK\n",
      "8 KAK\n",
      "9 KGK\n",
      "10 KGK\n",
      "11 KFK\n",
      "12 KPK\n",
      "13 KAK\n",
      "14 KDK\n",
      "15 KSK\n",
      "16 KTK\n",
      "17 KYK\n",
      "18 KAK\n",
      "19 KNK\n"
     ]
    }
   ],
   "source": [
    "for i, val in enumerate(raw_primary[0:20]):\n",
    "  print(str(i) + \" \" + val)\n"
   ]
  },
  {
   "cell_type": "code",
   "execution_count": 31,
   "metadata": {
    "id": "TqIoH9xwfkNo"
   },
   "outputs": [],
   "source": [
    "for i in range(len(raw_secondary)):\n",
    "\tlen1 = len(raw_secondary[i])\n",
    "\tlen2 = len(raw_primary[i])\n",
    "\tif(len1 != len2):\n",
    "\t  print(i,\" \", raw_secondary[i],\" \",raw_primary[i])"
   ]
  },
  {
   "cell_type": "code",
   "execution_count": 32,
   "metadata": {
    "id": "obu9EB04fq_m"
   },
   "outputs": [],
   "source": [
    "def split(sequence):\n",
    "  return [char for char in sequence]\n"
   ]
  },
  {
   "cell_type": "code",
   "execution_count": 33,
   "metadata": {
    "id": "UhJrzbtFfxHf"
   },
   "outputs": [],
   "source": [
    "split_primary = []\n",
    "split_secondary = []\n",
    "for i in range(len(raw_primary)):\n",
    "  split_primary.append(split(raw_primary[i]))\n",
    "  split_secondary.append(split(raw_secondary[i]))"
   ]
  },
  {
   "cell_type": "code",
   "execution_count": 34,
   "metadata": {
    "id": "Oeb17lSwgZeP"
   },
   "outputs": [],
   "source": [
    "def orthogonal_primary(arg):\n",
    "  switch = {\n",
    "  'A' : np.array([1,0,0,0,0,0,0,0,0,0,0,0,0,0,0,0,0,0,0,0]),\n",
    "  'C' : np.array([0,1,0,0,0,0,0,0,0,0,0,0,0,0,0,0,0,0,0,0]),\n",
    "  'E' : np.array([0,0,1,0,0,0,0,0,0,0,0,0,0,0,0,0,0,0,0,0]),\n",
    "  'D' : np.array([0,0,0,1,0,0,0,0,0,0,0,0,0,0,0,0,0,0,0,0]),\n",
    "  'G' : np.array([0,0,0,0,1,0,0,0,0,0,0,0,0,0,0,0,0,0,0,0]),\n",
    "  'F' : np.array([0,0,0,0,0,1,0,0,0,0,0,0,0,0,0,0,0,0,0,0]),\n",
    "  'I' : np.array([0,0,0,0,0,0,1,0,0,0,0,0,0,0,0,0,0,0,0,0]),\n",
    "  'H' : np.array([0,0,0,0,0,0,0,1,0,0,0,0,0,0,0,0,0,0,0,0]),\n",
    "  'K' : np.array([0,0,0,0,0,0,0,0,1,0,0,0,0,0,0,0,0,0,0,0]),\n",
    "  'M' : np.array([0,0,0,0,0,0,0,0,0,1,0,0,0,0,0,0,0,0,0,0]),\n",
    "  'L' : np.array([0,0,0,0,0,0,0,0,0,0,1,0,0,0,0,0,0,0,0,0]),\n",
    "  'N' : np.array([0,0,0,0,0,0,0,0,0,0,0,1,0,0,0,0,0,0,0,0]),\n",
    "  'Q' : np.array([0,0,0,0,0,0,0,0,0,0,0,0,1,0,0,0,0,0,0,0]),\n",
    "  'P' : np.array([0,0,0,0,0,0,0,0,0,0,0,0,0,1,0,0,0,0,0,0]),\n",
    "  'S' : np.array([0,0,0,0,0,0,0,0,0,0,0,0,0,0,1,0,0,0,0,0]),\n",
    "  'R' : np.array([0,0,0,0,0,0,0,0,0,0,0,0,0,0,0,1,0,0,0,0]),\n",
    "  'T' : np.array([0,0,0,0,0,0,0,0,0,0,0,0,0,0,0,0,1,0,0,0]),\n",
    "  'W' : np.array([0,0,0,0,0,0,0,0,0,0,0,0,0,0,0,0,0,1,0,0]),\n",
    "  'V' : np.array([0,0,0,0,0,0,0,0,0,0,0,0,0,0,0,0,0,0,1,0]),\n",
    "  'Y' : np.array([0,0,0,0,0,0,0,0,0,0,0,0,0,0,0,0,0,0,0,1])\n",
    "  }\n",
    "  return switch.get(arg)\n"
   ]
  },
  {
   "cell_type": "code",
   "execution_count": 35,
   "metadata": {
    "id": "cj1wqSVkgpPH"
   },
   "outputs": [],
   "source": [
    "def orthogonal_secondary(arg):\n",
    "  switch = {\n",
    "  'H' : 0,\n",
    "  'C' : 1,\n",
    "  'E' : 2\n",
    "  }\n",
    "  return switch.get(arg)"
   ]
  },
  {
   "cell_type": "code",
   "execution_count": 36,
   "metadata": {
    "id": "wBrhIum4gws2"
   },
   "outputs": [],
   "source": [
    "for i in range(len(split_primary)):\n",
    "  seq = split_primary[i]\n",
    "  for j in range(len(seq)):\n",
    "    seq[j] = orthogonal_primary(seq[j])"
   ]
  },
  {
   "cell_type": "code",
   "execution_count": 37,
   "metadata": {
    "id": "5d43BYoFhBVf"
   },
   "outputs": [],
   "source": [
    "for i in range(len(split_secondary)):\n",
    "  seq2 = split_secondary[i]\n",
    "  for j in range(len(seq2)):\n",
    "    seq2[j] = orthogonal_secondary(seq2[j])\n"
   ]
  },
  {
   "cell_type": "code",
   "execution_count": 38,
   "metadata": {
    "id": "tIm_AyT-hdnG"
   },
   "outputs": [],
   "source": [
    "def target(lis):\n",
    "  Y = []\n",
    "  print(len(lis))\n",
    "  for i in range(len(lis)):\n",
    "    for j in range(len(lis[i])):\n",
    "      Y.append(lis[i][j])\n",
    "  return Y\n"
   ]
  },
  {
   "cell_type": "code",
   "execution_count": 39,
   "metadata": {
    "colab": {
     "base_uri": "https://localhost:8080/"
    },
    "id": "92ya315IhobY",
    "outputId": "16ecaaab-92f7-4f1d-8922-36e317c78654"
   },
   "outputs": [
    {
     "name": "stdout",
     "output_type": "stream",
     "text": [
      "7366\n"
     ]
    }
   ],
   "source": [
    "y_label = target(split_secondary)"
   ]
  },
  {
   "cell_type": "code",
   "execution_count": 40,
   "metadata": {
    "colab": {
     "base_uri": "https://localhost:8080/"
    },
    "id": "OQF_mpYdhsvv",
    "outputId": "9381b9fd-b521-4de1-cb4d-b0740879cc48"
   },
   "outputs": [],
   "source": [
    "y_label = np.array(y_label)"
   ]
  },
  {
   "cell_type": "code",
   "execution_count": 41,
   "metadata": {
    "id": "z3b4JZV1iBdG"
   },
   "outputs": [],
   "source": [
    "def window_padding_data(size, sequence):\n",
    "\tnum = int(size/2)\n",
    "\tzeros = np.array([0, 0, 0, 0, 0, 0, 0, 0, 0, 0, 0, 0, 0, 0, 0, 0, 0, 0, 0, 0])\n",
    "\n",
    "\tfor i in range(len(sequence)):\n",
    "\t\tfor j in range(num):\n",
    "\t\t\tsequence[i].append(zeros)\n",
    "\t\t\tsequence[i].insert(0, zeros)\n",
    "\tX = []\n",
    "\ttemp = []\n",
    "\tfor k in range(len(sequence)):\n",
    "\t\tfor l in range(len( sequence[k])-(size-1) ):\n",
    "\t\t\ttemp = sequence[k][l:l+size]\n",
    "\t\t\tX.append(temp)\n",
    "\t\t\ttemp = []\n",
    "\treturn X"
   ]
  },
  {
   "cell_type": "code",
   "execution_count": 42,
   "metadata": {
    "id": "qZYCEkVPiwoO"
   },
   "outputs": [],
   "source": [
    "X = window_padding_data(17,split_primary)"
   ]
  },
  {
   "cell_type": "code",
   "execution_count": 43,
   "metadata": {
    "id": "oCCJxGV8i6BO"
   },
   "outputs": [],
   "source": [
    "X = np.array(X)"
   ]
  },
  {
   "cell_type": "code",
   "execution_count": 44,
   "metadata": {
    "colab": {
     "base_uri": "https://localhost:8080/"
    },
    "id": "aIyLPQ1ei_HX",
    "outputId": "c9a65d19-27af-4c93-d0de-4cca6f883085"
   },
   "outputs": [
    {
     "data": {
      "text/plain": [
       "(82487, 17, 20)"
      ]
     },
     "execution_count": 44,
     "metadata": {},
     "output_type": "execute_result"
    }
   ],
   "source": [
    "X.shape"
   ]
  },
  {
   "cell_type": "code",
   "execution_count": 89,
   "metadata": {},
   "outputs": [
    {
     "name": "stdout",
     "output_type": "stream",
     "text": [
      "[[0 0 0 ... 0 0 0]\n",
      " [0 0 0 ... 0 0 0]\n",
      " [0 0 0 ... 0 0 0]\n",
      " ...\n",
      " [0 0 0 ... 0 0 0]\n",
      " [0 0 0 ... 0 0 0]\n",
      " [0 0 0 ... 0 0 0]]\n"
     ]
    }
   ],
   "source": [
    "print(X_train)\n"
   ]
  },
  {
   "cell_type": "code",
   "execution_count": 45,
   "metadata": {
    "id": "WRin7WnIjC3_"
   },
   "outputs": [],
   "source": [
    "p=X.shape\n",
    "X = X.reshape(p[0], 17*20)"
   ]
  },
  {
   "cell_type": "code",
   "execution_count": 46,
   "metadata": {
    "colab": {
     "base_uri": "https://localhost:8080/"
    },
    "id": "75clKVezjJzG",
    "outputId": "604e78d9-8af0-4e2a-d17b-371d29705b1a"
   },
   "outputs": [],
   "source": [
    "X_train, X_test, y_train, y_test = train_test_split(X, y_label, test_size = 0.30)"
   ]
  },
  {
   "cell_type": "markdown",
   "metadata": {},
   "source": [
    "# RBF kernel"
   ]
  },
  {
   "cell_type": "code",
   "execution_count": 47,
   "metadata": {
    "colab": {
     "base_uri": "https://localhost:8080/"
    },
    "id": "Elo0GcSYjYiw",
    "outputId": "51a65df7-0bb8-4949-ff0a-e9d79bff601e"
   },
   "outputs": [
    {
     "data": {
      "text/plain": [
       "SVC(C=2.5, gamma=0.1)"
      ]
     },
     "execution_count": 47,
     "metadata": {},
     "output_type": "execute_result"
    }
   ],
   "source": [
    "svc = SVC(kernel='rbf', gamma = 0.1, C=2.5)\n",
    "svc.fit(X_train, y_train)"
   ]
  },
  {
   "cell_type": "code",
   "execution_count": 48,
   "metadata": {},
   "outputs": [
    {
     "name": "stdout",
     "output_type": "stream",
     "text": [
      "              precision    recall  f1-score   support\n",
      "\n",
      "           0       0.93      0.94      0.93      8861\n",
      "           1       0.97      0.98      0.97     41739\n",
      "           2       0.95      0.91      0.93      7140\n",
      "\n",
      "    accuracy                           0.96     57740\n",
      "   macro avg       0.95      0.94      0.94     57740\n",
      "weighted avg       0.96      0.96      0.96     57740\n",
      "\n"
     ]
    }
   ],
   "source": [
    "y_pred = svc.predict(X_train)\n",
    "y_true = y_train\n",
    "print(classification_report(y_true,y_pred))"
   ]
  },
  {
   "cell_type": "code",
   "execution_count": 49,
   "metadata": {},
   "outputs": [
    {
     "name": "stdout",
     "output_type": "stream",
     "text": [
      "              precision    recall  f1-score   support\n",
      "\n",
      "           0       0.88      0.83      0.86      3819\n",
      "           1       0.93      0.96      0.94     17778\n",
      "           2       0.89      0.77      0.83      3150\n",
      "\n",
      "    accuracy                           0.92     24747\n",
      "   macro avg       0.90      0.85      0.88     24747\n",
      "weighted avg       0.92      0.92      0.92     24747\n",
      "\n"
     ]
    }
   ],
   "source": [
    "y_pred = svc.predict(X_test)\n",
    "y_true = y_test\n",
    "print(classification_report(y_true,y_pred))"
   ]
  },
  {
   "cell_type": "markdown",
   "metadata": {},
   "source": [
    "# Input and Output"
   ]
  },
  {
   "cell_type": "code",
   "execution_count": 97,
   "metadata": {},
   "outputs": [
    {
     "name": "stdout",
     "output_type": "stream",
     "text": [
      "[0 0 0 0 0 0 0 0 0 0 0 0 0 0 0 0 0 0 0 0 0 0 0 0 0 0 0 0 0 0 0 0 0 0 0 0 0\n",
      " 0 0 0 0 0 0 0 0 0 0 0 0 0 0 0 0 0 0 0 0 0 0 0 0 0 0 0 0 0 0 0 0 0 0 0 0 0\n",
      " 0 0 0 0 0 0 0 0 0 0 0 0 0 0 0 0 0 0 0 0 0 0 0 0 0 0 0 0 0 0 0 0 0 0 0 0 0\n",
      " 0 0 0 0 0 0 0 0 0 0 0 0 0 0 0 0 0 0 0 0 0 0 0 0 0 0 0 0 0 0 0 0 0 0 0 0 0\n",
      " 0 0 0 0 0 0 0 0 0 0 0 0 0 0 1 0 0 0 0 0 0 0 0 0 0 0 0 0 0 0 0 0 0 0 0 1 0\n",
      " 0 0 0 0 0 0 0 0 0 0 0 0 0 0 0 0 0 0 0 0 0 0 0 0 0 1 0 0 0 0 0 0 0 0 0 0 0\n",
      " 0 0 0 0 0 0 0 0 0 0 0 0 0 0 0 0 0 0 0 0 0 0 0 0 0 0 0 0 0 0 0 0 0 0 0 0 0\n",
      " 0 0 0 0 0 0 0 0 0 0 0 0 0 0 0 0 0 0 0 0 0 0 0 0 0 0 0 0 0 0 0 0 0 0 0 0 0\n",
      " 0 0 0 0 0 0 0 0 0 0 0 0 0 0 0 0 0 0 0 0 0 0 0 0 0 0 0 0 0 0 0 0 0 0 0 0 0\n",
      " 0 0 0 0 0 0 0]\n",
      "              precision    recall  f1-score   support\n",
      "\n",
      "           1       1.00      1.00      1.00         1\n",
      "\n",
      "    accuracy                           1.00         1\n",
      "   macro avg       1.00      1.00      1.00         1\n",
      "weighted avg       1.00      1.00      1.00         1\n",
      "\n"
     ]
    }
   ],
   "source": [
    "p=X.shape\n",
    "X = X.reshape(p[0], 17*20)\n",
    "print(X[0])\n",
    "y_pred = svc.predict([X[0]])\n",
    "y_true = [y_test[0]]\n",
    "print(classification_report(y_true,y_pred))"
   ]
  },
  {
   "cell_type": "markdown",
   "metadata": {},
   "source": [
    "# Sigmoid kernel"
   ]
  },
  {
   "cell_type": "code",
   "execution_count": 51,
   "metadata": {},
   "outputs": [
    {
     "data": {
      "text/plain": [
       "SVC(C=2.5, gamma=0.1, kernel='sigmoid')"
      ]
     },
     "execution_count": 51,
     "metadata": {},
     "output_type": "execute_result"
    }
   ],
   "source": [
    "svc = SVC(kernel='sigmoid', gamma = 0.1, C=2.5)\n",
    "svc.fit(X_train, y_train)"
   ]
  },
  {
   "cell_type": "code",
   "execution_count": 52,
   "metadata": {},
   "outputs": [
    {
     "name": "stdout",
     "output_type": "stream",
     "text": [
      "Training Accuracy: \n",
      "              precision    recall  f1-score   support\n",
      "\n",
      "           0       0.48      0.56      0.52      8861\n",
      "           1       0.79      0.78      0.79     41739\n",
      "           2       0.16      0.13      0.14      7140\n",
      "\n",
      "    accuracy                           0.67     57740\n",
      "   macro avg       0.48      0.49      0.48     57740\n",
      "weighted avg       0.66      0.67      0.67     57740\n",
      "\n"
     ]
    }
   ],
   "source": [
    "print(\"Training Accuracy: \")\n",
    "y_pred = svc.predict(X_train)\n",
    "y_true = y_train\n",
    "print(classification_report(y_true,y_pred))"
   ]
  },
  {
   "cell_type": "code",
   "execution_count": 53,
   "metadata": {},
   "outputs": [
    {
     "name": "stdout",
     "output_type": "stream",
     "text": [
      "Testing Accuracy: \n",
      "              precision    recall  f1-score   support\n",
      "\n",
      "           0       0.47      0.56      0.51      3819\n",
      "           1       0.79      0.78      0.79     17778\n",
      "           2       0.17      0.14      0.15      3150\n",
      "\n",
      "    accuracy                           0.67     24747\n",
      "   macro avg       0.48      0.49      0.48     24747\n",
      "weighted avg       0.66      0.67      0.66     24747\n",
      "\n"
     ]
    }
   ],
   "source": [
    "print(\"Testing Accuracy: \")\n",
    "y_pred = svc.predict(X_test)\n",
    "y_true = y_test\n",
    "print(classification_report(y_true,y_pred))"
   ]
  },
  {
   "cell_type": "markdown",
   "metadata": {},
   "source": [
    "# Polynomial kernel"
   ]
  },
  {
   "cell_type": "code",
   "execution_count": 54,
   "metadata": {},
   "outputs": [
    {
     "data": {
      "text/plain": [
       "SVC(C=2.5, gamma=0.1, kernel='poly')"
      ]
     },
     "execution_count": 54,
     "metadata": {},
     "output_type": "execute_result"
    }
   ],
   "source": [
    "svc = SVC(kernel='poly', gamma = 0.1, C=2.5)\n",
    "svc.fit(X_train, y_train)"
   ]
  },
  {
   "cell_type": "code",
   "execution_count": 55,
   "metadata": {},
   "outputs": [
    {
     "name": "stdout",
     "output_type": "stream",
     "text": [
      "              precision    recall  f1-score   support\n",
      "\n",
      "           0       0.93      0.94      0.94      8861\n",
      "           1       0.97      0.98      0.97     41739\n",
      "           2       0.95      0.88      0.92      7140\n",
      "\n",
      "    accuracy                           0.96     57740\n",
      "   macro avg       0.95      0.94      0.94     57740\n",
      "weighted avg       0.96      0.96      0.96     57740\n",
      "\n"
     ]
    }
   ],
   "source": [
    "y_pred = svc.predict(X_train)\n",
    "y_true = y_train\n",
    "print(classification_report(y_true,y_pred))"
   ]
  },
  {
   "cell_type": "code",
   "execution_count": 56,
   "metadata": {},
   "outputs": [
    {
     "name": "stdout",
     "output_type": "stream",
     "text": [
      "              precision    recall  f1-score   support\n",
      "\n",
      "           0       0.89      0.80      0.85      3819\n",
      "           1       0.92      0.96      0.94     17778\n",
      "           2       0.89      0.74      0.81      3150\n",
      "\n",
      "    accuracy                           0.91     24747\n",
      "   macro avg       0.90      0.84      0.86     24747\n",
      "weighted avg       0.91      0.91      0.91     24747\n",
      "\n"
     ]
    }
   ],
   "source": [
    "y_pred = svc.predict(X_test)\n",
    "y_true = y_test\n",
    "print(classification_report(y_true,y_pred))"
   ]
  },
  {
   "cell_type": "markdown",
   "metadata": {},
   "source": [
    "# Linear"
   ]
  },
  {
   "cell_type": "code",
   "execution_count": 57,
   "metadata": {},
   "outputs": [
    {
     "data": {
      "text/plain": [
       "SVC(C=2.5, gamma=0.1, kernel='linear')"
      ]
     },
     "execution_count": 57,
     "metadata": {},
     "output_type": "execute_result"
    }
   ],
   "source": [
    "svc = SVC(kernel='linear', gamma = 0.1, C=2.5)\n",
    "svc.fit(X_train, y_train)"
   ]
  },
  {
   "cell_type": "code",
   "execution_count": 58,
   "metadata": {},
   "outputs": [
    {
     "name": "stdout",
     "output_type": "stream",
     "text": [
      "              precision    recall  f1-score   support\n",
      "\n",
      "           0       0.79      0.69      0.74      8861\n",
      "           1       0.83      0.96      0.89     41739\n",
      "           2       0.80      0.22      0.35      7140\n",
      "\n",
      "    accuracy                           0.83     57740\n",
      "   macro avg       0.81      0.62      0.66     57740\n",
      "weighted avg       0.82      0.83      0.80     57740\n",
      "\n"
     ]
    }
   ],
   "source": [
    "y_pred = svc.predict(X_train)\n",
    "y_true = y_train\n",
    "print(classification_report(y_true,y_pred))"
   ]
  },
  {
   "cell_type": "code",
   "execution_count": 59,
   "metadata": {},
   "outputs": [
    {
     "name": "stdout",
     "output_type": "stream",
     "text": [
      "              precision    recall  f1-score   support\n",
      "\n",
      "           0       0.80      0.70      0.74      3819\n",
      "           1       0.83      0.96      0.89     17778\n",
      "           2       0.79      0.21      0.34      3150\n",
      "\n",
      "    accuracy                           0.82     24747\n",
      "   macro avg       0.81      0.62      0.66     24747\n",
      "weighted avg       0.82      0.82      0.80     24747\n",
      "\n"
     ]
    }
   ],
   "source": [
    "y_pred = svc.predict(X_test)\n",
    "y_true = y_test\n",
    "print(classification_report(y_true,y_pred))"
   ]
  },
  {
   "cell_type": "markdown",
   "metadata": {},
   "source": [
    "# Hyper-Parameter tuning"
   ]
  },
  {
   "cell_type": "code",
   "execution_count": 60,
   "metadata": {},
   "outputs": [
    {
     "name": "stdout",
     "output_type": "stream",
     "text": [
      "Training Accuracy: \n",
      "              precision    recall  f1-score   support\n",
      "\n",
      "           0       0.92      0.92      0.92      8861\n",
      "           1       0.96      0.98      0.97     41739\n",
      "           2       0.95      0.85      0.90      7140\n",
      "\n",
      "    accuracy                           0.95     57740\n",
      "   macro avg       0.94      0.92      0.93     57740\n",
      "weighted avg       0.95      0.95      0.95     57740\n",
      "\n",
      "Testing Accuracy: \n",
      "              precision    recall  f1-score   support\n",
      "\n",
      "           0       0.89      0.82      0.85      3819\n",
      "           1       0.92      0.96      0.94     17778\n",
      "           2       0.90      0.74      0.81      3150\n",
      "\n",
      "    accuracy                           0.91     24747\n",
      "   macro avg       0.90      0.84      0.87     24747\n",
      "weighted avg       0.91      0.91      0.91     24747\n",
      "\n"
     ]
    }
   ],
   "source": [
    "svc = SVC(kernel='rbf', gamma = 0.1, C=1.5)\n",
    "svc.fit(X_train, y_train)\n",
    "print(\"Training Accuracy: \")\n",
    "y_pred = svc.predict(X_train)\n",
    "y_true = y_train\n",
    "print(classification_report(y_true,y_pred))\n",
    "print(\"Testing Accuracy: \")\n",
    "y_pred = svc.predict(X_test)\n",
    "y_true = y_test\n",
    "print(classification_report(y_true,y_pred))"
   ]
  },
  {
   "cell_type": "code",
   "execution_count": 61,
   "metadata": {},
   "outputs": [
    {
     "name": "stdout",
     "output_type": "stream",
     "text": [
      "Training Accuracy: \n",
      "              precision    recall  f1-score   support\n",
      "\n",
      "           0       0.87      0.73      0.80      8861\n",
      "           1       0.85      0.98      0.91     41739\n",
      "           2       0.95      0.30      0.45      7140\n",
      "\n",
      "    accuracy                           0.85     57740\n",
      "   macro avg       0.89      0.67      0.72     57740\n",
      "weighted avg       0.86      0.85      0.83     57740\n",
      "\n",
      "Testing Accuracy: \n",
      "              precision    recall  f1-score   support\n",
      "\n",
      "           0       0.86      0.73      0.79      3819\n",
      "           1       0.84      0.97      0.90     17778\n",
      "           2       0.93      0.28      0.43      3150\n",
      "\n",
      "    accuracy                           0.85     24747\n",
      "   macro avg       0.88      0.66      0.71     24747\n",
      "weighted avg       0.86      0.85      0.82     24747\n",
      "\n"
     ]
    }
   ],
   "source": [
    "svc = SVC(kernel='rbf', gamma = 0.01, C=3.5)\n",
    "svc.fit(X_train, y_train)\n",
    "print(\"Training Accuracy: \")\n",
    "y_pred = svc.predict(X_train)\n",
    "y_true = y_train\n",
    "print(classification_report(y_true,y_pred))\n",
    "print(\"Testing Accuracy: \")\n",
    "y_pred = svc.predict(X_test)\n",
    "y_true = y_test\n",
    "print(classification_report(y_true,y_pred))"
   ]
  },
  {
   "cell_type": "code",
   "execution_count": null,
   "metadata": {},
   "outputs": [],
   "source": []
  },
  {
   "cell_type": "code",
   "execution_count": null,
   "metadata": {},
   "outputs": [],
   "source": []
  },
  {
   "cell_type": "code",
   "execution_count": null,
   "metadata": {},
   "outputs": [],
   "source": []
  },
  {
   "cell_type": "code",
   "execution_count": null,
   "metadata": {},
   "outputs": [],
   "source": []
  },
  {
   "cell_type": "code",
   "execution_count": 21,
   "metadata": {},
   "outputs": [
    {
     "name": "stdout",
     "output_type": "stream",
     "text": [
      "              precision    recall  f1-score   support\n",
      "\n",
      "           0       0.87      0.84      0.85      3758\n",
      "           1       0.93      0.96      0.94     17870\n",
      "           2       0.89      0.77      0.83      3119\n",
      "\n",
      "    accuracy                           0.92     24747\n",
      "   macro avg       0.90      0.86      0.87     24747\n",
      "weighted avg       0.92      0.92      0.92     24747\n",
      "\n"
     ]
    }
   ],
   "source": [
    "svc = SVC(kernel='rbf', gamma = 0.1, C=3.0)\n",
    "svc.fit(X_train, y_train)\n",
    "y_pred = svc.predict(X_test)\n",
    "y_true = y_test\n",
    "print(classification_report(y_true,y_pred))"
   ]
  },
  {
   "cell_type": "code",
   "execution_count": null,
   "metadata": {},
   "outputs": [],
   "source": []
  },
  {
   "cell_type": "code",
   "execution_count": 22,
   "metadata": {},
   "outputs": [
    {
     "name": "stdout",
     "output_type": "stream",
     "text": [
      "              precision    recall  f1-score   support\n",
      "\n",
      "           0       0.86      0.84      0.85      3758\n",
      "           1       0.93      0.96      0.94     17870\n",
      "           2       0.89      0.78      0.83      3119\n",
      "\n",
      "    accuracy                           0.92     24747\n",
      "   macro avg       0.90      0.86      0.88     24747\n",
      "weighted avg       0.92      0.92      0.92     24747\n",
      "\n"
     ]
    }
   ],
   "source": [
    "svc = SVC(kernel='rbf', gamma = 0.1, C=3.5)\n",
    "svc.fit(X_train, y_train)\n",
    "y_pred = svc.predict(X_test)\n",
    "y_true = y_test\n",
    "print(classification_report(y_true,y_pred))"
   ]
  },
  {
   "cell_type": "code",
   "execution_count": 23,
   "metadata": {},
   "outputs": [
    {
     "name": "stdout",
     "output_type": "stream",
     "text": [
      "              precision    recall  f1-score   support\n",
      "\n",
      "           0       0.87      0.84      0.85      3758\n",
      "           1       0.93      0.96      0.94     17870\n",
      "           2       0.89      0.78      0.83      3119\n",
      "\n",
      "    accuracy                           0.92     24747\n",
      "   macro avg       0.89      0.86      0.88     24747\n",
      "weighted avg       0.92      0.92      0.92     24747\n",
      "\n"
     ]
    }
   ],
   "source": [
    "svc = SVC(kernel='rbf', gamma = 0.1, C=4.0)\n",
    "svc.fit(X_train, y_train)\n",
    "y_pred = svc.predict(X_test)\n",
    "y_true = y_test\n",
    "print(classification_report(y_true,y_pred))"
   ]
  }
 ],
 "metadata": {
  "colab": {
   "collapsed_sections": [],
   "name": "ProteinStructurePredictionSVM.ipynb",
   "provenance": []
  },
  "kernelspec": {
   "display_name": "Python 3",
   "language": "python",
   "name": "python3"
  },
  "language_info": {
   "codemirror_mode": {
    "name": "ipython",
    "version": 3
   },
   "file_extension": ".py",
   "mimetype": "text/x-python",
   "name": "python",
   "nbconvert_exporter": "python",
   "pygments_lexer": "ipython3",
   "version": "3.8.8"
  }
 },
 "nbformat": 4,
 "nbformat_minor": 1
}
