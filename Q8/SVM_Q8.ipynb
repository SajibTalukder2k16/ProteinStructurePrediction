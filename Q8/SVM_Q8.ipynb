{
 "cells": [
  {
   "cell_type": "code",
   "execution_count": 1,
   "metadata": {
    "id": "oTe2o8A7EqtS"
   },
   "outputs": [],
   "source": [
    "import numpy as np\n",
    "import pandas as pd\n",
    "import matplotlib.pyplot as plt\n",
    "%matplotlib inline\n",
    "import csv\n",
    "from sklearn.model_selection import train_test_split\n",
    "from sklearn.svm import SVC\n",
    "from sklearn.metrics import classification_report"
   ]
  },
  {
   "cell_type": "code",
   "execution_count": 2,
   "metadata": {
    "colab": {
     "base_uri": "https://localhost:8080/"
    },
    "id": "wGM37O2XFuom",
    "outputId": "ec39824e-098a-443b-ddb5-b6adddfc5fed"
   },
   "outputs": [
    {
     "name": "stdout",
     "output_type": "stream",
     "text": [
      "Processed 10001 lines.\n"
     ]
    }
   ],
   "source": [
    "raw_primary = []\n",
    "raw_secondary = []\n",
    "#lines=393732;\n",
    "lines=10000;\n",
    "#df=pd.read_csv('PDB_CLEAN_DATA.csv')\n",
    "#display(df)\n",
    "with open('D:\\Study\\Thesis\\Q8\\PDB_CLEAN_DATA.csv') as csv_file:\n",
    "\tcsv_reader = csv.reader(csv_file, delimiter=',')\n",
    "\tline_count = 0\n",
    "\tfor row in csv_reader:\n",
    "\t\tadd = True\n",
    "\t\tif line_count == 0:\n",
    "\t\t\tline_count += 1\n",
    "\t\telif line_count > lines:\n",
    "\t\t\tbreak;\n",
    "\t\telse:\n",
    "\t\t\tfor j in range(len(row[2])):\n",
    "\t\t\t\tif row[2][j] == '*':\n",
    "\t\t\t\t\t#print(line_count)\n",
    "\t\t\t\t\tadd = False\n",
    "\t\t\t\t\tbreak;\n",
    "\t\t\tif add == True:\n",
    "\t\t\t\tif(len(row)>=3):\n",
    "\t\t\t\t\traw_primary.append( row[2] )\n",
    "\t\t\t\t\traw_secondary.append( row[3] )\n",
    "\n",
    "\t\t\tline_count += 1\n",
    "\tprint(f'Processed {line_count} lines.')"
   ]
  },
  {
   "cell_type": "code",
   "execution_count": 3,
   "metadata": {
    "colab": {
     "base_uri": "https://localhost:8080/"
    },
    "id": "ogLu-xvdHI5u",
    "outputId": "d620fb8a-a67f-4af4-a46b-313fefc8ec72"
   },
   "outputs": [
    {
     "name": "stdout",
     "output_type": "stream",
     "text": [
      "0 EDL\n",
      "1 KCK\n",
      "2 KAK\n",
      "3 KFK\n",
      "4 KAK\n",
      "5 KMK\n",
      "6 KHK\n",
      "7 KIK\n",
      "8 KAK\n",
      "9 KGK\n",
      "10 KGK\n",
      "11 KFK\n",
      "12 KPK\n",
      "13 KAK\n",
      "14 KDK\n",
      "15 KSK\n",
      "16 KTK\n",
      "17 KYK\n",
      "18 KAK\n",
      "19 KNK\n"
     ]
    }
   ],
   "source": [
    "for i, val in enumerate(raw_primary[0:20]):\n",
    "  print(str(i) + \" \" + val)\n"
   ]
  },
  {
   "cell_type": "code",
   "execution_count": 4,
   "metadata": {
    "id": "TqIoH9xwfkNo"
   },
   "outputs": [],
   "source": [
    "for i in range(len(raw_secondary)):\n",
    "\tlen1 = len(raw_secondary[i])\n",
    "\tlen2 = len(raw_primary[i])\n",
    "\tif(len1 != len2):\n",
    "\t  print(i,\" \", raw_secondary[i],\" \",raw_primary[i])"
   ]
  },
  {
   "cell_type": "code",
   "execution_count": 5,
   "metadata": {
    "id": "obu9EB04fq_m"
   },
   "outputs": [],
   "source": [
    "def split(sequence):\n",
    "  return [char for char in sequence]\n"
   ]
  },
  {
   "cell_type": "code",
   "execution_count": 6,
   "metadata": {
    "id": "UhJrzbtFfxHf"
   },
   "outputs": [],
   "source": [
    "split_primary = []\n",
    "split_secondary = []\n",
    "for i in range(len(raw_primary)):\n",
    "  split_primary.append(split(raw_primary[i]))\n",
    "  split_secondary.append(split(raw_secondary[i]))"
   ]
  },
  {
   "cell_type": "code",
   "execution_count": 7,
   "metadata": {
    "id": "Oeb17lSwgZeP"
   },
   "outputs": [],
   "source": [
    "def orthogonal_primary(arg):\n",
    "  switch = {\n",
    "  'A' : np.array([1,0,0,0,0,0,0,0,0,0,0,0,0,0,0,0,0,0,0,0]),\n",
    "  'C' : np.array([0,1,0,0,0,0,0,0,0,0,0,0,0,0,0,0,0,0,0,0]),\n",
    "  'E' : np.array([0,0,1,0,0,0,0,0,0,0,0,0,0,0,0,0,0,0,0,0]),\n",
    "  'D' : np.array([0,0,0,1,0,0,0,0,0,0,0,0,0,0,0,0,0,0,0,0]),\n",
    "  'G' : np.array([0,0,0,0,1,0,0,0,0,0,0,0,0,0,0,0,0,0,0,0]),\n",
    "  'F' : np.array([0,0,0,0,0,1,0,0,0,0,0,0,0,0,0,0,0,0,0,0]),\n",
    "  'I' : np.array([0,0,0,0,0,0,1,0,0,0,0,0,0,0,0,0,0,0,0,0]),\n",
    "  'H' : np.array([0,0,0,0,0,0,0,1,0,0,0,0,0,0,0,0,0,0,0,0]),\n",
    "  'K' : np.array([0,0,0,0,0,0,0,0,1,0,0,0,0,0,0,0,0,0,0,0]),\n",
    "  'M' : np.array([0,0,0,0,0,0,0,0,0,1,0,0,0,0,0,0,0,0,0,0]),\n",
    "  'L' : np.array([0,0,0,0,0,0,0,0,0,0,1,0,0,0,0,0,0,0,0,0]),\n",
    "  'N' : np.array([0,0,0,0,0,0,0,0,0,0,0,1,0,0,0,0,0,0,0,0]),\n",
    "  'Q' : np.array([0,0,0,0,0,0,0,0,0,0,0,0,1,0,0,0,0,0,0,0]),\n",
    "  'P' : np.array([0,0,0,0,0,0,0,0,0,0,0,0,0,1,0,0,0,0,0,0]),\n",
    "  'S' : np.array([0,0,0,0,0,0,0,0,0,0,0,0,0,0,1,0,0,0,0,0]),\n",
    "  'R' : np.array([0,0,0,0,0,0,0,0,0,0,0,0,0,0,0,1,0,0,0,0]),\n",
    "  'T' : np.array([0,0,0,0,0,0,0,0,0,0,0,0,0,0,0,0,1,0,0,0]),\n",
    "  'W' : np.array([0,0,0,0,0,0,0,0,0,0,0,0,0,0,0,0,0,1,0,0]),\n",
    "  'V' : np.array([0,0,0,0,0,0,0,0,0,0,0,0,0,0,0,0,0,0,1,0]),\n",
    "  'Y' : np.array([0,0,0,0,0,0,0,0,0,0,0,0,0,0,0,0,0,0,0,1])\n",
    "  }\n",
    "  return switch.get(arg)\n"
   ]
  },
  {
   "cell_type": "code",
   "execution_count": 8,
   "metadata": {
    "id": "cj1wqSVkgpPH"
   },
   "outputs": [],
   "source": [
    "def orthogonal_secondary(arg):\n",
    "  switch = {\n",
    "  'H' : 0,\n",
    "  'C' : 1,\n",
    "  'E' : 2,\n",
    "  'B' : 3,\n",
    "  'G' : 4,\n",
    "  'I' : 5,\n",
    "  'T' : 6,\n",
    "  'S' : 7\n",
    "  }\n",
    "  return switch.get(arg)"
   ]
  },
  {
   "cell_type": "code",
   "execution_count": 9,
   "metadata": {
    "id": "wBrhIum4gws2"
   },
   "outputs": [],
   "source": [
    "for i in range(len(split_primary)):\n",
    "  seq = split_primary[i]\n",
    "  for j in range(len(seq)):\n",
    "    seq[j] = orthogonal_primary(seq[j])"
   ]
  },
  {
   "cell_type": "code",
   "execution_count": 10,
   "metadata": {},
   "outputs": [
    {
     "name": "stdout",
     "output_type": "stream",
     "text": [
      "[0 0 1 0 0 0 0 0 0 0 0 0 0 0 0 0 0 0 0 0]\n"
     ]
    }
   ],
   "source": [
    "print(seq[0]);"
   ]
  },
  {
   "cell_type": "code",
   "execution_count": 11,
   "metadata": {
    "id": "5d43BYoFhBVf"
   },
   "outputs": [],
   "source": [
    "for i in range(len(split_secondary)):\n",
    "  seq2 = split_secondary[i]\n",
    "  for j in range(len(seq2)):\n",
    "    seq2[j] = orthogonal_secondary(seq2[j])\n"
   ]
  },
  {
   "cell_type": "code",
   "execution_count": 12,
   "metadata": {
    "id": "tIm_AyT-hdnG"
   },
   "outputs": [],
   "source": [
    "def target(lis):\n",
    "  Y = []\n",
    "  print(len(lis))\n",
    "  for i in range(len(lis)):\n",
    "    for j in range(len(lis[i])):\n",
    "      Y.append(lis[i][j])\n",
    "  return Y\n"
   ]
  },
  {
   "cell_type": "code",
   "execution_count": 13,
   "metadata": {
    "colab": {
     "base_uri": "https://localhost:8080/"
    },
    "id": "92ya315IhobY",
    "outputId": "cb5adfaa-75f2-4be5-e9a2-c5b921bc1166"
   },
   "outputs": [
    {
     "name": "stdout",
     "output_type": "stream",
     "text": [
      "7366\n"
     ]
    }
   ],
   "source": [
    "y_label = target(split_secondary)"
   ]
  },
  {
   "cell_type": "code",
   "execution_count": 14,
   "metadata": {
    "colab": {
     "base_uri": "https://localhost:8080/"
    },
    "id": "OQF_mpYdhsvv",
    "outputId": "d7c8c3fd-bb1c-4a96-c9f5-860508a284c6"
   },
   "outputs": [],
   "source": [
    "y_label = np.array(y_label)"
   ]
  },
  {
   "cell_type": "code",
   "execution_count": 15,
   "metadata": {
    "id": "z3b4JZV1iBdG"
   },
   "outputs": [],
   "source": [
    "def window_padding_data(size, sequence):\n",
    "\tnum = int(size/2)\n",
    "\tzeros = np.array([0, 0, 0, 0, 0, 0, 0, 0, 0, 0, 0, 0, 0, 0, 0, 0, 0, 0, 0, 0])\n",
    "\n",
    "\tfor i in range(len(sequence)):\n",
    "\t\tfor j in range(num):\n",
    "\t\t\tsequence[i].append(zeros)\n",
    "\t\t\tsequence[i].insert(0, zeros)\n",
    "\tX = []\n",
    "\ttemp = []\n",
    "\tfor k in range(len(sequence)):\n",
    "\t\tfor l in range(len( sequence[k])-(size-1) ):\n",
    "\t\t\ttemp = sequence[k][l:l+size]\n",
    "\t\t\tX.append(temp)\n",
    "\t\t\ttemp = []\n",
    "\treturn X"
   ]
  },
  {
   "cell_type": "code",
   "execution_count": 16,
   "metadata": {
    "id": "qZYCEkVPiwoO"
   },
   "outputs": [],
   "source": [
    "X = window_padding_data(17,split_primary)"
   ]
  },
  {
   "cell_type": "code",
   "execution_count": 17,
   "metadata": {
    "id": "oCCJxGV8i6BO"
   },
   "outputs": [],
   "source": [
    "X = np.array(X)"
   ]
  },
  {
   "cell_type": "code",
   "execution_count": 18,
   "metadata": {
    "colab": {
     "base_uri": "https://localhost:8080/"
    },
    "id": "aIyLPQ1ei_HX",
    "outputId": "df5becc2-99c9-4feb-db3c-04077ef2704f"
   },
   "outputs": [
    {
     "data": {
      "text/plain": [
       "(82487, 17, 20)"
      ]
     },
     "execution_count": 18,
     "metadata": {},
     "output_type": "execute_result"
    }
   ],
   "source": [
    "X.shape"
   ]
  },
  {
   "cell_type": "code",
   "execution_count": 19,
   "metadata": {
    "id": "WRin7WnIjC3_"
   },
   "outputs": [],
   "source": [
    "p=X.shape\n",
    "X = X.reshape(p[0], 17*20)"
   ]
  },
  {
   "cell_type": "code",
   "execution_count": 20,
   "metadata": {
    "colab": {
     "base_uri": "https://localhost:8080/"
    },
    "id": "75clKVezjJzG",
    "outputId": "a224bc8e-7fa1-4c61-aadd-4388eed45d06"
   },
   "outputs": [],
   "source": [
    "X_train, X_test, y_train, y_test = train_test_split(X, y_label, test_size = 0.30)"
   ]
  },
  {
   "cell_type": "markdown",
   "metadata": {},
   "source": [
    "# RBF Kernel"
   ]
  },
  {
   "cell_type": "code",
   "execution_count": 21,
   "metadata": {
    "id": "Elo0GcSYjYiw"
   },
   "outputs": [
    {
     "name": "stdout",
     "output_type": "stream",
     "text": [
      "              precision    recall  f1-score   support\n",
      "\n",
      "           0       0.85      0.88      0.87      3353\n",
      "           1       0.88      0.95      0.91     14956\n",
      "           2       0.86      0.78      0.82      2569\n",
      "           3       0.78      0.56      0.65       506\n",
      "           4       0.69      0.61      0.64       477\n",
      "           6       0.69      0.45      0.54      1265\n",
      "           7       0.75      0.54      0.63      1621\n",
      "\n",
      "    accuracy                           0.86     24747\n",
      "   macro avg       0.79      0.68      0.72     24747\n",
      "weighted avg       0.85      0.86      0.85     24747\n",
      "\n"
     ]
    }
   ],
   "source": [
    "svc = SVC(kernel='rbf', gamma = 0.1, C=4.0)\n",
    "svc.fit(X_train, y_train)\n",
    "y_pred = svc.predict(X_test)\n",
    "y_true = y_test\n",
    "print(classification_report(y_true,y_pred))"
   ]
  },
  {
   "cell_type": "code",
   "execution_count": 22,
   "metadata": {},
   "outputs": [
    {
     "name": "stdout",
     "output_type": "stream",
     "text": [
      "Training Accuracy: \n",
      "              precision    recall  f1-score   support\n",
      "\n",
      "           0       0.92      0.97      0.94      7707\n",
      "           1       0.96      0.98      0.97     35020\n",
      "           2       0.94      0.93      0.93      5949\n",
      "           3       0.91      0.77      0.84      1266\n",
      "           4       0.84      0.85      0.85      1143\n",
      "           6       0.90      0.73      0.81      2995\n",
      "           7       0.93      0.84      0.88      3660\n",
      "\n",
      "    accuracy                           0.94     57740\n",
      "   macro avg       0.92      0.87      0.89     57740\n",
      "weighted avg       0.94      0.94      0.94     57740\n",
      "\n"
     ]
    }
   ],
   "source": [
    "print(\"Training Accuracy: \")\n",
    "y_pred = svc.predict(X_train)\n",
    "y_true = y_train\n",
    "print(classification_report(y_true,y_pred))"
   ]
  },
  {
   "cell_type": "code",
   "execution_count": 23,
   "metadata": {},
   "outputs": [
    {
     "name": "stdout",
     "output_type": "stream",
     "text": [
      "Testing Accuracy: \n",
      "              precision    recall  f1-score   support\n",
      "\n",
      "           0       0.85      0.88      0.87      3353\n",
      "           1       0.88      0.95      0.91     14956\n",
      "           2       0.86      0.78      0.82      2569\n",
      "           3       0.78      0.56      0.65       506\n",
      "           4       0.69      0.61      0.64       477\n",
      "           6       0.69      0.45      0.54      1265\n",
      "           7       0.75      0.54      0.63      1621\n",
      "\n",
      "    accuracy                           0.86     24747\n",
      "   macro avg       0.79      0.68      0.72     24747\n",
      "weighted avg       0.85      0.86      0.85     24747\n",
      "\n"
     ]
    }
   ],
   "source": [
    "print(\"Testing Accuracy: \")\n",
    "y_pred = svc.predict(X_test)\n",
    "y_true = y_test\n",
    "print(classification_report(y_true,y_pred))"
   ]
  },
  {
   "cell_type": "markdown",
   "metadata": {},
   "source": [
    "# Sigmoid kernel"
   ]
  },
  {
   "cell_type": "code",
   "execution_count": 24,
   "metadata": {},
   "outputs": [
    {
     "data": {
      "text/plain": [
       "SVC(C=4.0, gamma=0.1, kernel='sigmoid')"
      ]
     },
     "execution_count": 24,
     "metadata": {},
     "output_type": "execute_result"
    }
   ],
   "source": [
    "svc = SVC(kernel='sigmoid', gamma = 0.1, C=4.0)\n",
    "svc.fit(X_train, y_train)"
   ]
  },
  {
   "cell_type": "code",
   "execution_count": 25,
   "metadata": {},
   "outputs": [
    {
     "name": "stdout",
     "output_type": "stream",
     "text": [
      "Training Accuracy: \n",
      "              precision    recall  f1-score   support\n",
      "\n",
      "           0       0.55      0.64      0.60      7707\n",
      "           1       0.70      0.79      0.74     35020\n",
      "           2       0.19      0.16      0.17      5949\n",
      "           3       0.11      0.03      0.05      1266\n",
      "           4       0.07      0.05      0.06      1143\n",
      "           6       0.14      0.05      0.07      2995\n",
      "           7       0.08      0.04      0.05      3660\n",
      "\n",
      "    accuracy                           0.59     57740\n",
      "   macro avg       0.26      0.25      0.25     57740\n",
      "weighted avg       0.53      0.59      0.56     57740\n",
      "\n"
     ]
    }
   ],
   "source": [
    "print(\"Training Accuracy: \")\n",
    "y_pred = svc.predict(X_train)\n",
    "y_true = y_train\n",
    "print(classification_report(y_true,y_pred))"
   ]
  },
  {
   "cell_type": "code",
   "execution_count": 26,
   "metadata": {},
   "outputs": [
    {
     "name": "stdout",
     "output_type": "stream",
     "text": [
      "Testing Accuracy: \n",
      "              precision    recall  f1-score   support\n",
      "\n",
      "           0       0.56      0.67      0.61      3353\n",
      "           1       0.70      0.80      0.75     14956\n",
      "           2       0.19      0.16      0.17      2569\n",
      "           3       0.10      0.03      0.05       506\n",
      "           4       0.10      0.06      0.08       477\n",
      "           6       0.15      0.06      0.08      1265\n",
      "           7       0.12      0.05      0.07      1621\n",
      "\n",
      "    accuracy                           0.60     24747\n",
      "   macro avg       0.28      0.26      0.26     24747\n",
      "weighted avg       0.54      0.60      0.56     24747\n",
      "\n"
     ]
    }
   ],
   "source": [
    "print(\"Testing Accuracy: \")\n",
    "y_pred = svc.predict(X_test)\n",
    "y_true = y_test\n",
    "print(classification_report(y_true,y_pred))"
   ]
  },
  {
   "cell_type": "markdown",
   "metadata": {},
   "source": [
    "# Polynomial kernel"
   ]
  },
  {
   "cell_type": "code",
   "execution_count": 27,
   "metadata": {},
   "outputs": [
    {
     "name": "stdout",
     "output_type": "stream",
     "text": [
      "Training Accuracy: \n",
      "              precision    recall  f1-score   support\n",
      "\n",
      "           0       0.93      0.96      0.95      7707\n",
      "           1       0.95      0.98      0.97     35020\n",
      "           2       0.95      0.92      0.93      5949\n",
      "           3       0.91      0.71      0.79      1266\n",
      "           4       0.86      0.84      0.85      1143\n",
      "           6       0.90      0.74      0.81      2995\n",
      "           7       0.93      0.85      0.89      3660\n",
      "\n",
      "    accuracy                           0.94     57740\n",
      "   macro avg       0.92      0.86      0.89     57740\n",
      "weighted avg       0.94      0.94      0.94     57740\n",
      "\n",
      "Testing Accuracy: \n",
      "              precision    recall  f1-score   support\n",
      "\n",
      "           0       0.89      0.84      0.86      3353\n",
      "           1       0.86      0.96      0.90     14956\n",
      "           2       0.87      0.76      0.81      2569\n",
      "           3       0.72      0.48      0.57       506\n",
      "           4       0.72      0.60      0.65       477\n",
      "           6       0.69      0.45      0.54      1265\n",
      "           7       0.76      0.53      0.62      1621\n",
      "\n",
      "    accuracy                           0.85     24747\n",
      "   macro avg       0.79      0.66      0.71     24747\n",
      "weighted avg       0.84      0.85      0.84     24747\n",
      "\n"
     ]
    }
   ],
   "source": [
    "svc = SVC(kernel='poly', gamma = 0.1, C=4.0)\n",
    "svc.fit(X_train, y_train)\n",
    "print(\"Training Accuracy: \")\n",
    "y_pred = svc.predict(X_train)\n",
    "y_true = y_train\n",
    "print(classification_report(y_true,y_pred))\n",
    "print(\"Testing Accuracy: \")\n",
    "y_pred = svc.predict(X_test)\n",
    "y_true = y_test\n",
    "print(classification_report(y_true,y_pred))"
   ]
  },
  {
   "cell_type": "markdown",
   "metadata": {},
   "source": [
    "# Linear Kernel"
   ]
  },
  {
   "cell_type": "code",
   "execution_count": 28,
   "metadata": {},
   "outputs": [
    {
     "name": "stdout",
     "output_type": "stream",
     "text": [
      "Training Accuracy: \n",
      "              precision    recall  f1-score   support\n",
      "\n",
      "           0       0.78      0.81      0.79      7707\n",
      "           1       0.74      0.96      0.83     35020\n",
      "           2       0.70      0.38      0.49      5949\n",
      "           3       1.00      0.00      0.00      1266\n",
      "           4       0.67      0.32      0.43      1143\n",
      "           6       0.78      0.05      0.09      2995\n",
      "           7       0.63      0.02      0.04      3660\n",
      "\n",
      "    accuracy                           0.74     57740\n",
      "   macro avg       0.76      0.36      0.38     57740\n",
      "weighted avg       0.74      0.74      0.68     57740\n",
      "\n",
      "Testing Accuracy: \n",
      "              precision    recall  f1-score   support\n",
      "\n",
      "           0       0.75      0.80      0.77      3353\n",
      "           1       0.73      0.95      0.83     14956\n",
      "           2       0.66      0.35      0.46      2569\n",
      "           3       0.00      0.00      0.00       506\n",
      "           4       0.58      0.26      0.36       477\n",
      "           6       0.73      0.04      0.08      1265\n",
      "           7       0.63      0.02      0.04      1621\n",
      "\n",
      "    accuracy                           0.73     24747\n",
      "   macro avg       0.58      0.35      0.36     24747\n",
      "weighted avg       0.70      0.73      0.67     24747\n",
      "\n"
     ]
    },
    {
     "name": "stderr",
     "output_type": "stream",
     "text": [
      "C:\\ProgramData\\Anaconda3\\lib\\site-packages\\sklearn\\metrics\\_classification.py:1245: UndefinedMetricWarning: Precision and F-score are ill-defined and being set to 0.0 in labels with no predicted samples. Use `zero_division` parameter to control this behavior.\n",
      "  _warn_prf(average, modifier, msg_start, len(result))\n",
      "C:\\ProgramData\\Anaconda3\\lib\\site-packages\\sklearn\\metrics\\_classification.py:1245: UndefinedMetricWarning: Precision and F-score are ill-defined and being set to 0.0 in labels with no predicted samples. Use `zero_division` parameter to control this behavior.\n",
      "  _warn_prf(average, modifier, msg_start, len(result))\n",
      "C:\\ProgramData\\Anaconda3\\lib\\site-packages\\sklearn\\metrics\\_classification.py:1245: UndefinedMetricWarning: Precision and F-score are ill-defined and being set to 0.0 in labels with no predicted samples. Use `zero_division` parameter to control this behavior.\n",
      "  _warn_prf(average, modifier, msg_start, len(result))\n"
     ]
    }
   ],
   "source": [
    "svc = SVC(kernel='linear', gamma = 0.1, C=4.0)\n",
    "svc.fit(X_train, y_train)\n",
    "print(\"Training Accuracy: \")\n",
    "y_pred = svc.predict(X_train)\n",
    "y_true = y_train\n",
    "print(classification_report(y_true,y_pred))\n",
    "print(\"Testing Accuracy: \")\n",
    "y_pred = svc.predict(X_test)\n",
    "y_true = y_test\n",
    "print(classification_report(y_true,y_pred))"
   ]
  },
  {
   "cell_type": "markdown",
   "metadata": {},
   "source": [
    "# Hyper-Parameter tuning"
   ]
  },
  {
   "cell_type": "code",
   "execution_count": 29,
   "metadata": {},
   "outputs": [
    {
     "name": "stdout",
     "output_type": "stream",
     "text": [
      "Training Accuracy: \n",
      "              precision    recall  f1-score   support\n",
      "\n",
      "           0       0.92      0.96      0.94      7707\n",
      "           1       0.95      0.98      0.96     35020\n",
      "           2       0.93      0.91      0.92      5949\n",
      "           3       0.91      0.73      0.81      1266\n",
      "           4       0.83      0.82      0.82      1143\n",
      "           6       0.89      0.69      0.78      2995\n",
      "           7       0.93      0.82      0.87      3660\n",
      "\n",
      "    accuracy                           0.94     57740\n",
      "   macro avg       0.91      0.84      0.87     57740\n",
      "weighted avg       0.94      0.94      0.93     57740\n",
      "\n",
      "Testing Accuracy: \n",
      "              precision    recall  f1-score   support\n",
      "\n",
      "           0       0.86      0.88      0.87      3353\n",
      "           1       0.87      0.95      0.91     14956\n",
      "           2       0.85      0.77      0.81      2569\n",
      "           3       0.78      0.54      0.64       506\n",
      "           4       0.68      0.60      0.64       477\n",
      "           6       0.71      0.44      0.54      1265\n",
      "           7       0.76      0.52      0.62      1621\n",
      "\n",
      "    accuracy                           0.85     24747\n",
      "   macro avg       0.79      0.67      0.72     24747\n",
      "weighted avg       0.85      0.85      0.84     24747\n",
      "\n"
     ]
    }
   ],
   "source": [
    "svc = SVC(kernel='rbf', gamma = 0.1, C=2.5)\n",
    "svc.fit(X_train, y_train)\n",
    "print(\"Training Accuracy: \")\n",
    "y_pred = svc.predict(X_train)\n",
    "y_true = y_train\n",
    "print(classification_report(y_true,y_pred))\n",
    "print(\"Testing Accuracy: \")\n",
    "y_pred = svc.predict(X_test)\n",
    "y_true = y_test\n",
    "print(classification_report(y_true,y_pred))"
   ]
  },
  {
   "cell_type": "code",
   "execution_count": 30,
   "metadata": {},
   "outputs": [
    {
     "name": "stdout",
     "output_type": "stream",
     "text": [
      "Training Accuracy: \n",
      "              precision    recall  f1-score   support\n",
      "\n",
      "           0       0.84      0.85      0.84      7707\n",
      "           1       0.76      0.98      0.86     35020\n",
      "           2       0.92      0.48      0.63      5949\n",
      "           3       0.84      0.09      0.15      1266\n",
      "           4       0.71      0.35      0.47      1143\n",
      "           6       0.90      0.15      0.25      2995\n",
      "           7       0.94      0.17      0.28      3660\n",
      "\n",
      "    accuracy                           0.78     57740\n",
      "   macro avg       0.84      0.44      0.50     57740\n",
      "weighted avg       0.81      0.78      0.74     57740\n",
      "\n",
      "Testing Accuracy: \n",
      "              precision    recall  f1-score   support\n",
      "\n",
      "           0       0.80      0.82      0.81      3353\n",
      "           1       0.75      0.97      0.85     14956\n",
      "           2       0.87      0.43      0.57      2569\n",
      "           3       0.89      0.10      0.17       506\n",
      "           4       0.63      0.29      0.39       477\n",
      "           6       0.84      0.12      0.22      1265\n",
      "           7       0.95      0.15      0.26      1621\n",
      "\n",
      "    accuracy                           0.77     24747\n",
      "   macro avg       0.82      0.41      0.47     24747\n",
      "weighted avg       0.79      0.77      0.72     24747\n",
      "\n"
     ]
    }
   ],
   "source": [
    "svc = SVC(kernel='rbf', gamma = 0.01, C=5.5)\n",
    "svc.fit(X_train, y_train)\n",
    "print(\"Training Accuracy: \")\n",
    "y_pred = svc.predict(X_train)\n",
    "y_true = y_train\n",
    "print(classification_report(y_true,y_pred))\n",
    "print(\"Testing Accuracy: \")\n",
    "y_pred = svc.predict(X_test)\n",
    "y_true = y_test\n",
    "print(classification_report(y_true,y_pred))"
   ]
  },
  {
   "cell_type": "code",
   "execution_count": 21,
   "metadata": {},
   "outputs": [
    {
     "name": "stdout",
     "output_type": "stream",
     "text": [
      "              precision    recall  f1-score   support\n",
      "\n",
      "           0       0.86      0.88      0.87      3347\n",
      "           1       0.87      0.95      0.91     14898\n",
      "           2       0.88      0.79      0.83      2588\n",
      "           3       0.75      0.55      0.64       501\n",
      "           4       0.69      0.60      0.64       487\n",
      "           6       0.70      0.45      0.54      1285\n",
      "           7       0.76      0.52      0.62      1641\n",
      "\n",
      "    accuracy                           0.86     24747\n",
      "   macro avg       0.79      0.68      0.72     24747\n",
      "weighted avg       0.85      0.86      0.85     24747\n",
      "\n"
     ]
    }
   ],
   "source": [
    "svc = SVC(kernel='rbf', gamma = 0.1, C=3.0)\n",
    "svc.fit(X_train, y_train)\n",
    "y_pred = svc.predict(X_test)\n",
    "y_true = y_test\n",
    "print(classification_report(y_true,y_pred))"
   ]
  },
  {
   "cell_type": "code",
   "execution_count": 22,
   "metadata": {},
   "outputs": [
    {
     "name": "stdout",
     "output_type": "stream",
     "text": [
      "              precision    recall  f1-score   support\n",
      "\n",
      "           0       0.87      0.88      0.87      3347\n",
      "           1       0.87      0.96      0.91     14898\n",
      "           2       0.88      0.78      0.83      2588\n",
      "           3       0.77      0.55      0.64       501\n",
      "           4       0.69      0.58      0.63       487\n",
      "           6       0.70      0.44      0.54      1285\n",
      "           7       0.76      0.51      0.61      1641\n",
      "\n",
      "    accuracy                           0.86     24747\n",
      "   macro avg       0.79      0.67      0.72     24747\n",
      "weighted avg       0.85      0.86      0.85     24747\n",
      "\n"
     ]
    }
   ],
   "source": [
    "svc = SVC(kernel='rbf', gamma = 0.1, C=2.5)\n",
    "svc.fit(X_train, y_train)\n",
    "y_pred = svc.predict(X_test)\n",
    "y_true = y_test\n",
    "print(classification_report(y_true,y_pred))"
   ]
  },
  {
   "cell_type": "code",
   "execution_count": 23,
   "metadata": {},
   "outputs": [
    {
     "name": "stdout",
     "output_type": "stream",
     "text": [
      "              precision    recall  f1-score   support\n",
      "\n",
      "           0       0.87      0.87      0.87      3347\n",
      "           1       0.85      0.96      0.90     14898\n",
      "           2       0.88      0.75      0.81      2588\n",
      "           3       0.78      0.45      0.57       501\n",
      "           4       0.71      0.54      0.61       487\n",
      "           6       0.75      0.41      0.53      1285\n",
      "           7       0.80      0.47      0.59      1641\n",
      "\n",
      "    accuracy                           0.85     24747\n",
      "   macro avg       0.81      0.64      0.70     24747\n",
      "weighted avg       0.84      0.85      0.84     24747\n",
      "\n"
     ]
    }
   ],
   "source": [
    "svc = SVC(kernel='rbf', gamma = 0.1, C=1.5)\n",
    "svc.fit(X_train, y_train)\n",
    "y_pred = svc.predict(X_test)\n",
    "y_true = y_test\n",
    "print(classification_report(y_true,y_pred))"
   ]
  }
 ],
 "metadata": {
  "colab": {
   "collapsed_sections": [],
   "name": "SVM_Q8.ipynb",
   "provenance": []
  },
  "kernelspec": {
   "display_name": "Python 3",
   "language": "python",
   "name": "python3"
  },
  "language_info": {
   "codemirror_mode": {
    "name": "ipython",
    "version": 3
   },
   "file_extension": ".py",
   "mimetype": "text/x-python",
   "name": "python",
   "nbconvert_exporter": "python",
   "pygments_lexer": "ipython3",
   "version": "3.8.8"
  }
 },
 "nbformat": 4,
 "nbformat_minor": 1
}
